{
 "cells": [
  {
   "cell_type": "code",
   "execution_count": 1,
   "id": "a85027dc-00ca-4528-954c-1d2fba820d82",
   "metadata": {},
   "outputs": [],
   "source": [
    "inventario = [\n",
    "    {'Título': 'Dune', 'Autor': 'Frank Herbert', 'Precio': 10.99, 'Stock': 4},\n",
    "    {'Título': '1984', 'Autor': 'George Orwell', 'Precio': 6.99, 'Stock': 7},\n",
    "    {'Título': 'El temor de un hombre sabio', 'Autor': 'Patrick Rothfuss', 'Precio': 22.99, 'Stock': 5},\n",
    "    {'Título': 'El archivo de las tormentas', 'Autor': 'Brandon Sanderson', 'Precio': 16.99, 'Stock': 6},\n",
    "    {'Título': 'Canción de hielo y fuego', 'Autor': 'George R.R. Martin', 'Precio': 20.99, 'Stock': 3}\n",
    "]"
   ]
  },
  {
   "cell_type": "code",
   "execution_count": 2,
   "id": "1a950d52-f054-4a68-b676-4f02f06083a2",
   "metadata": {},
   "outputs": [],
   "source": [
    "def mostrar_libros_disponibles():\n",
    "    print('\\nLibros disponibles con más de una unidad disponible: ')\n",
    "    for libro in inventario:\n",
    "        if libro['Stock'] > 1:\n",
    "            print(f'{libro['Título']}, {libro['Autor']}, ${libro['Precio']}, Stock: {libro['Stock']}')"
   ]
  },
  {
   "cell_type": "code",
   "execution_count": 3,
   "id": "8e333bb2-c8e2-4de8-9f4e-d2565cb19e87",
   "metadata": {},
   "outputs": [],
   "source": [
    "def filtrar_precio():\n",
    "    min = float(input('Ingrese el precio mínimo: '))\n",
    "    max = float(input('Ingrese el precio máximo: '))\n",
    "\n",
    "    libros_disponibles = []\n",
    "    \n",
    "    for libro in inventario:\n",
    "            if min <= libro['Precio'] <= max:\n",
    "                libros_disponibles.append(libro)\n",
    "            \n",
    "    if len(libros_disponibles) == 0:\n",
    "        print('No hay libros disponibles dentro de tu presupuesto')\n",
    "    else: \n",
    "        print(f'\\nPuedes comprar estos libros: ')\n",
    "        for libro in libros_disponibles:\n",
    "            print(f'{libro['Título']}, {libro['Autor']}, ${libro['Precio']}, Stock: {libro['Stock']}')"
   ]
  },
  {
   "cell_type": "code",
   "execution_count": 14,
   "id": "b97b3c46-d6a6-496d-b9aa-0d9709751087",
   "metadata": {},
   "outputs": [],
   "source": [
    "def comprar_libros(titulo, cantidad):\n",
    "    for libro in inventario:\n",
    "        if libro['Título'].lower() == titulo.lower():\n",
    "            if libro['Stock'] >= cantidad:\n",
    "                total = libro['Precio'] * cantidad\n",
    "                libro['Stock'] -= cantidad\n",
    "                print(f'\\nCompra exitosa:')\n",
    "                print(f'{cantidad} x {libro['Título']} = ${total:.2f}')\n",
    "                return total \n",
    "            else:\n",
    "                print(f\"\\nNo hay suficiente stock. Solo quedan {libro['Stock']} unidades de '{libro['Título']}'.\")\n",
    "                return None\n",
    "    print(f\"\\nEl libro '{titulo}' no se encuentra en el inventario.\")\n",
    "    return None"
   ]
  },
  {
   "cell_type": "code",
   "execution_count": 4,
   "id": "f908bf67-2655-4d62-ba85-de7f294bb342",
   "metadata": {},
   "outputs": [],
   "source": [
    "descuento_autor = {\n",
    "    'Bradon Sanderson': 0.1,\n",
    "    'Frank Herbert': 0.3\n",
    "}"
   ]
  },
  {
   "cell_type": "code",
   "execution_count": 10,
   "id": "574fda47-f522-4038-aadf-d3aecb826ca5",
   "metadata": {},
   "outputs": [],
   "source": [
    "def comprar_libros(titulo, cantidad):\n",
    "    global total_libros, monto_total, descuento_total\n",
    "    for libro in inventario:\n",
    "        if libro['Título'].lower() == titulo.lower():\n",
    "            if cantidad <= libro['Stock']:\n",
    "                autor = libro['Autor']\n",
    "                precio_unidad = libro['Precio']\n",
    "                subtotal = precio_unidad * cantidad\n",
    "\n",
    "                descuento = descuento_autor.get(autor, 0)\n",
    "                diferencia = subtotal * descuento\n",
    "                total = subtotal - diferencia\n",
    "                \n",
    "                libro['Stock'] -= cantidad\n",
    "                print(f'\\nCompra exitosa:')\n",
    "                print(f'{cantidad} x {libro['Título']} = ${total:.2f}')\n",
    "\n",
    "                total_libros += cantidad\n",
    "                monto_total += total\n",
    "                descuento_total += diferencia\n",
    "                \n",
    "                return total \n",
    "            else:\n",
    "                print(f\"\\nNo hay suficiente stock. Solo quedan {libro['Stock']} unidades de '{libro['Título']}'.\")\n",
    "                return None\n",
    "    print(f\"\\nEl libro '{titulo}' no se encuentra en el inventario.\")\n",
    "    return None"
   ]
  },
  {
   "cell_type": "code",
   "execution_count": 13,
   "id": "712c3ac0-9674-40e4-bf89-b21b67e5d207",
   "metadata": {},
   "outputs": [],
   "source": [
    "def menu():\n",
    "    global total_libros, monto_total, descuento_total\n",
    "    total_libros = 0\n",
    "    monto_total = 0.0\n",
    "    descuento_total = 0.0\n",
    "    \n",
    "    while True:\n",
    "        print('\\n¡Bienvenido/a a Libros & Bytes!')\n",
    "        print('\\nSistema de compras:')\n",
    "        print('1. Mostrar libros disponibles.')\n",
    "        print('2. Filtrar libros por rango de precios.')\n",
    "        print('3. Comprar libros')\n",
    "        print('4. Finalizar la compra y emitir la factura.')\n",
    "\n",
    "        opcion = input('Que desea hacer?: ')\n",
    "\n",
    "        match opcion:\n",
    "            case '1':\n",
    "                mostrar_libros_disponibles()\n",
    "            case '2':\n",
    "                filtrar_precio()\n",
    "            case '3':\n",
    "                titulo = str(input('Ingrese el nombre del libro: '))\n",
    "                cantidad = input('Ingrese la cantidad:')\n",
    "                if not cantidad.isdigit():\n",
    "                    print('Por favor ingrese una cantidad valida.')\n",
    "                    continue\n",
    "                cantidad = int(cantidad)\n",
    "                comprar_libros(titulo, cantidad)\n",
    "            case '4':\n",
    "                print('\\nFACTURA FINAL')\n",
    "                print(f'Total de libros comprados: {total_libros}')\n",
    "                print(f'Monto total pagado: ${monto_total:.2f}')\n",
    "                print(f'Ahorro total por descuentos: ${descuento_total:.2f}')\n",
    "                print('\\nGracias por tu compra. ¡Hasta pronto!')\n",
    "                break\n",
    "            case _:\n",
    "                print('Opcion invalida. Intente nuevamente.')"
   ]
  },
  {
   "cell_type": "code",
   "execution_count": 14,
   "id": "1c03920d-3db8-4982-a8e6-07ee4033f9e8",
   "metadata": {},
   "outputs": [
    {
     "name": "stdout",
     "output_type": "stream",
     "text": [
      "\n",
      "¡Bienvenido/a a Libros & Bytes!\n",
      "\n",
      "Sistema de compras:\n",
      "1. Mostrar libros disponibles.\n",
      "2. Filtrar libros por rango de precios.\n",
      "3. Comprar libros\n",
      "4. Finalizar la compra y emitir la factura.\n"
     ]
    },
    {
     "name": "stdin",
     "output_type": "stream",
     "text": [
      "Que desea hacer?:  3\n",
      "Ingrese el nombre del libro:  1984\n",
      "Ingrese la cantidad: 1\n"
     ]
    },
    {
     "name": "stdout",
     "output_type": "stream",
     "text": [
      "\n",
      "Compra exitosa:\n",
      "1 x 1984 = $6.99\n",
      "\n",
      "¡Bienvenido/a a Libros & Bytes!\n",
      "\n",
      "Sistema de compras:\n",
      "1. Mostrar libros disponibles.\n",
      "2. Filtrar libros por rango de precios.\n",
      "3. Comprar libros\n",
      "4. Finalizar la compra y emitir la factura.\n"
     ]
    },
    {
     "name": "stdin",
     "output_type": "stream",
     "text": [
      "Que desea hacer?:  3\n",
      "Ingrese el nombre del libro:  dune\n",
      "Ingrese la cantidad: 1\n"
     ]
    },
    {
     "name": "stdout",
     "output_type": "stream",
     "text": [
      "\n",
      "Compra exitosa:\n",
      "1 x Dune = $7.69\n",
      "\n",
      "¡Bienvenido/a a Libros & Bytes!\n",
      "\n",
      "Sistema de compras:\n",
      "1. Mostrar libros disponibles.\n",
      "2. Filtrar libros por rango de precios.\n",
      "3. Comprar libros\n",
      "4. Finalizar la compra y emitir la factura.\n"
     ]
    },
    {
     "name": "stdin",
     "output_type": "stream",
     "text": [
      "Que desea hacer?:  4\n"
     ]
    },
    {
     "name": "stdout",
     "output_type": "stream",
     "text": [
      "\n",
      "FACTURA FINAL\n",
      "Total de libros comprados: 2\n",
      "Monto total pagado: $14.68\n",
      "Ahorro total por descuentos: $3.30\n",
      "\n",
      "Gracias por tu compra. ¡Hasta pronto!\n"
     ]
    }
   ],
   "source": [
    "menu()"
   ]
  },
  {
   "cell_type": "code",
   "execution_count": null,
   "id": "1467fce4-d458-46ce-b38b-94a8c97bef33",
   "metadata": {},
   "outputs": [],
   "source": []
  }
 ],
 "metadata": {
  "kernelspec": {
   "display_name": "Python 3 (ipykernel)",
   "language": "python",
   "name": "python3"
  },
  "language_info": {
   "codemirror_mode": {
    "name": "ipython",
    "version": 3
   },
   "file_extension": ".py",
   "mimetype": "text/x-python",
   "name": "python",
   "nbconvert_exporter": "python",
   "pygments_lexer": "ipython3",
   "version": "3.12.4"
  }
 },
 "nbformat": 4,
 "nbformat_minor": 5
}
