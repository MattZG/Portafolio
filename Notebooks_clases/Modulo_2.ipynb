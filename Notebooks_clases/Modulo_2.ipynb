{
  "nbformat": 4,
  "nbformat_minor": 0,
  "metadata": {
    "colab": {
      "provenance": [],
      "toc_visible": true,
      "authorship_tag": "ABX9TyN/jLuXaR7DcM3vYOTIPnU9"
    },
    "kernelspec": {
      "name": "python3",
      "display_name": "Python 3"
    },
    "language_info": {
      "name": "python"
    }
  },
  "cells": [
    {
      "cell_type": "markdown",
      "source": [
        "# Modulo 2: Fundamentos de Python"
      ],
      "metadata": {
        "id": "d398xudtKxx2"
      }
    },
    {
      "cell_type": "markdown",
      "source": [
        "## Codigo basico: imprimir un texto"
      ],
      "metadata": {
        "id": "rPBFbr5hSnfB"
      }
    },
    {
      "cell_type": "code",
      "execution_count": null,
      "metadata": {
        "colab": {
          "base_uri": "https://localhost:8080/"
        },
        "id": "kwAl0mHnOIsa",
        "outputId": "72babd7c-aef7-45c7-b9e3-f8d94d2aa3cc"
      },
      "outputs": [
        {
          "output_type": "stream",
          "name": "stdout",
          "text": [
            "hola mundo\n",
            "Nombre:  Juan y la edad es:  35\n",
            "Nombre: Juan y la edad es: 35\n"
          ]
        }
      ],
      "source": [
        "print('hola mundo')\n",
        "nombre = 'Juan'\n",
        "edad = 35\n",
        "print('Nombre: ', nombre, 'y la edad es: ', edad)\n",
        "print(f'Nombre: {nombre} y la edad es: {edad}')"
      ]
    },
    {
      "cell_type": "markdown",
      "source": [
        "## Introducir un valor por pantalla, definiendo el tipo de variable"
      ],
      "metadata": {
        "id": "qXd32e5LREZT"
      }
    },
    {
      "cell_type": "markdown",
      "source": [
        "Suma:"
      ],
      "metadata": {
        "id": "sCq886unTwNb"
      }
    },
    {
      "cell_type": "code",
      "source": [
        "print('Hola, bienvenid@ a la aplicacion')\n",
        "op1 = float(input('Ingrese el primer número: '))\n",
        "op2 = float(input('Ingrese el segundo número: '))\n",
        "resultado = op1 + op2\n",
        "print(f'El resultado es: ',resultado)"
      ],
      "metadata": {
        "id": "92QrreR1Ou7-",
        "colab": {
          "base_uri": "https://localhost:8080/"
        },
        "outputId": "896f1e47-3741-479b-95bc-b922b9e8ff0a"
      },
      "execution_count": null,
      "outputs": [
        {
          "output_type": "stream",
          "name": "stdout",
          "text": [
            "Hola, bienvenid@ a la aplicacion\n",
            "Ingrese el primer número: 4\n",
            "Ingrese el segundo número: 5\n",
            "El resultado es:  9.0\n"
          ]
        }
      ]
    },
    {
      "cell_type": "markdown",
      "source": [
        "Resta:"
      ],
      "metadata": {
        "id": "67n9IgNaTyC6"
      }
    },
    {
      "cell_type": "code",
      "source": [
        "print('Hola, bienvenid@ a la aplicacion')\n",
        "op1 = float(input('Ingrese el primer número: '))\n",
        "op2 = float(input('Ingrese el segundo número: '))\n",
        "resultado = op1 - op2\n",
        "print(f'El resultado es: ',resultado)"
      ],
      "metadata": {
        "colab": {
          "base_uri": "https://localhost:8080/"
        },
        "id": "tCENki0uRhyk",
        "outputId": "973804bb-f406-48a7-e890-924ac8f39c32"
      },
      "execution_count": null,
      "outputs": [
        {
          "output_type": "stream",
          "name": "stdout",
          "text": [
            "Hola, bienvenid@ a la aplicacion\n",
            "Ingrese el primer número: 3\n",
            "Ingrese el segundo número: 2\n",
            "El resultado es:  1\n"
          ]
        }
      ]
    },
    {
      "cell_type": "markdown",
      "source": [
        "Multiplicacion:"
      ],
      "metadata": {
        "id": "i8Q7tOSXTz2J"
      }
    },
    {
      "cell_type": "code",
      "source": [
        "print('Hola, bienvenid@ a la aplicacion')\n",
        "op1 = float(input('Ingrese el primer número: '))\n",
        "op2 = float(input('Ingrese el segundo número: '))\n",
        "resultado = op1 * op2\n",
        "print(f'El resultado es: ',resultado)"
      ],
      "metadata": {
        "colab": {
          "base_uri": "https://localhost:8080/"
        },
        "id": "vWIV9QYzSXus",
        "outputId": "fe9cb3a3-18d8-4a39-cc0a-b16fe1b332a6"
      },
      "execution_count": null,
      "outputs": [
        {
          "output_type": "stream",
          "name": "stdout",
          "text": [
            "Hola, bienvenid@ a la aplicacion\n",
            "Ingrese el primer número: 5\n",
            "Ingrese el segundo número: 2\n",
            "El resultado es:  10.0\n"
          ]
        }
      ]
    },
    {
      "cell_type": "markdown",
      "source": [
        "Division:"
      ],
      "metadata": {
        "id": "qGrBj8YaT5dy"
      }
    },
    {
      "cell_type": "code",
      "source": [
        "print('Hola, bienvenid@ a la aplicacion')\n",
        "op1 = float(input('Ingrese el primer número: '))\n",
        "op2 = float(input('Ingrese el segundo número: '))\n",
        "resultado = op1 / op2\n",
        "cociente = op1 // op2\n",
        "resto = op1 % op2\n",
        "print(f'El resultado es: ',resultado)\n",
        "print(f'El cociente es: ',cociente)\n",
        "print(f'El resto es: ',resto)"
      ],
      "metadata": {
        "colab": {
          "base_uri": "https://localhost:8080/"
        },
        "id": "I9AqFt8eTQZK",
        "outputId": "6ab0711f-a80f-4577-d250-df713e7b998c"
      },
      "execution_count": null,
      "outputs": [
        {
          "output_type": "stream",
          "name": "stdout",
          "text": [
            "Hola, bienvenid@ a la aplicacion\n",
            "Ingrese el primer número: 7\n",
            "Ingrese el segundo número: 2\n",
            "El resultado es:  3.5\n",
            "El cociente es:  3.0\n",
            "El resto es:  1.0\n"
          ]
        }
      ]
    },
    {
      "cell_type": "markdown",
      "source": [
        "Potencia:"
      ],
      "metadata": {
        "id": "7f1g1RxaUKsi"
      }
    },
    {
      "cell_type": "code",
      "source": [
        "print('Hola, bienvenid@ a la aplicacion')\n",
        "op1 = float(input('Ingrese el primer número: '))\n",
        "op2 = float(input('Ingrese el segundo número: '))\n",
        "resultado = op1 ** op2\n",
        "print(f'El resultado es: ',resultado)"
      ],
      "metadata": {
        "colab": {
          "base_uri": "https://localhost:8080/"
        },
        "id": "vCfGtM20T6s_",
        "outputId": "b4d30f43-abb5-4e40-f864-103101f4c05b"
      },
      "execution_count": null,
      "outputs": [
        {
          "output_type": "stream",
          "name": "stdout",
          "text": [
            "Hola, bienvenid@ a la aplicacion\n",
            "Ingrese el primer número: 3\n",
            "Ingrese el segundo número: 3\n",
            "El resultado es:  27.0\n"
          ]
        }
      ]
    },
    {
      "cell_type": "markdown",
      "source": [
        "## Condicional \"if\":"
      ],
      "metadata": {
        "id": "G_mSfJPfj4pn"
      }
    },
    {
      "cell_type": "code",
      "source": [
        "temp = 21\n",
        "\n",
        "if temp >= 25:\n",
        "  print('Hacer calor')\n",
        "elif 25 > temp >= 20:\n",
        "  print('Esta fresco')\n",
        "else:\n",
        "  print('Hace frío')"
      ],
      "metadata": {
        "colab": {
          "base_uri": "https://localhost:8080/"
        },
        "id": "Ok4ErPaAUOcm",
        "outputId": "308ca50e-bcd5-452a-fb2b-0b03952b0989"
      },
      "execution_count": null,
      "outputs": [
        {
          "output_type": "stream",
          "name": "stdout",
          "text": [
            "Esta fresco\n"
          ]
        }
      ]
    },
    {
      "cell_type": "markdown",
      "source": [
        "## Condicionales \"or\" y \"and\":"
      ],
      "metadata": {
        "id": "FxkhPd2Ru5tU"
      }
    },
    {
      "cell_type": "code",
      "source": [
        "num1 = float(input('Ingrese un número: '))\n",
        "num2 = float(input('Ingrese un número: '))\n",
        "\n",
        "if num1 % 2 == 0 and num2 % 2 == 0:\n",
        "  print('La suma de ambos numeros es: ', num1 + num2)\n",
        "elif num1 % 2 != 0 and num2 % 2 != 0:\n",
        "  print('La resta de ambos numeros es: ', num1 - num2)\n",
        "elif num1 % 2 == 0 or num2 % 2 != 0:\n",
        "  print('La multiplicación de ambos numeros es: ', num1 * num2)\n",
        "else:\n",
        "  print('La división de ambos numeros es: ', num1 / num2)"
      ],
      "metadata": {
        "colab": {
          "base_uri": "https://localhost:8080/"
        },
        "id": "WSHPAydgkBBN",
        "outputId": "c9472096-bd9f-46c5-c153-47a4c9027ab0"
      },
      "execution_count": null,
      "outputs": [
        {
          "output_type": "stream",
          "name": "stdout",
          "text": [
            "Ingrese un número: 3\n",
            "Ingrese un número: 7\n",
            "La resta de ambos numeros es:  -4.0\n"
          ]
        }
      ]
    },
    {
      "cell_type": "markdown",
      "source": [
        "## Guia de ejercicios"
      ],
      "metadata": {
        "id": "EkGdpPDqKopt"
      }
    },
    {
      "cell_type": "markdown",
      "source": [
        "### Ejercicio 1"
      ],
      "metadata": {
        "id": "s4EQO51_H9d-"
      }
    },
    {
      "cell_type": "code",
      "source": [
        "try:\n",
        "  num = int(input('Ingrese un numero: '))\n",
        "  if num > 0:\n",
        "    print(f'{num} es un numero positivo')\n",
        "  elif num < 0:\n",
        "    print(f'{num} es un numero negativo')\n",
        "  else:\n",
        "    print('El numero es 0')\n",
        "except Exception as e:\n",
        "  print('No se ha ingresado un numero valido.')"
      ],
      "metadata": {
        "id": "w5wyyWpQv42k",
        "colab": {
          "base_uri": "https://localhost:8080/"
        },
        "outputId": "72d30241-8b04-446d-9299-f12c58aefb02"
      },
      "execution_count": null,
      "outputs": [
        {
          "output_type": "stream",
          "name": "stdout",
          "text": [
            "Ingrese un numero: d\n",
            "No se ha ingresado un numero valido\n"
          ]
        }
      ]
    },
    {
      "cell_type": "markdown",
      "source": [
        "### Ejercicio 2"
      ],
      "metadata": {
        "id": "vQThyg6aKl2a"
      }
    },
    {
      "cell_type": "code",
      "source": [
        "try:\n",
        "  precio = float(input('Cual es el precio del producto?: '))\n",
        "  cantidad = int(input('Cuantos vas a a llevar?: '))\n",
        "  if precio >= 100:\n",
        "    print('Tienes que pagar: ', (precio * 0.9) * cantidad)\n",
        "  elif 99.99 >= precio > 50:\n",
        "    print('Tiene que pagar: ', (precio * 0.95) * cantidad)\n",
        "  else:\n",
        "    print('Tienes que pagar: ', precio * cantidad)\n",
        "except Exception as e:\n",
        "  print('Ingrese valores valido.')"
      ],
      "metadata": {
        "colab": {
          "base_uri": "https://localhost:8080/"
        },
        "id": "mXEuKPtzIUXa",
        "outputId": "5dddea13-9447-46a9-9f88-1e3e36299987"
      },
      "execution_count": null,
      "outputs": [
        {
          "output_type": "stream",
          "name": "stdout",
          "text": [
            "Cual es el precio del producto?: a\n",
            "Ingrese valores valido.\n"
          ]
        }
      ]
    },
    {
      "cell_type": "markdown",
      "source": [
        "### Ejercicio 3"
      ],
      "metadata": {
        "id": "HAkg6b4hLEus"
      }
    },
    {
      "cell_type": "code",
      "source": [
        "print('--- Menú de opciones ---')\n",
        "print('1. Ver perfil')\n",
        "print('2. Editar configuración')\n",
        "print('3. Cerrar sesión')\n",
        "try:\n",
        "  opcion = int(input('Elige un opcion 1, 2 o 3: '))\n",
        "  if opcion == 1:\n",
        "    print('Cargando el perfil del usuario...')\n",
        "  elif opcion == 2:\n",
        "    print('Ingresando al menú de ajustes...')\n",
        "  elif opcion == 3:\n",
        "    print('Cerrando sesión...')\n",
        "  else:\n",
        "    print('Opcion no valida')\n",
        "except Exception as e:\n",
        "  print('Ingrese un valor valido')"
      ],
      "metadata": {
        "colab": {
          "base_uri": "https://localhost:8080/"
        },
        "id": "m7b4XN-8KQcW",
        "outputId": "15e9a9b1-fd30-445b-abb8-69bdee0ba995"
      },
      "execution_count": null,
      "outputs": [
        {
          "output_type": "stream",
          "name": "stdout",
          "text": [
            "--- Menú de opciones ---\n",
            "1. Ver perfil\n",
            "2. Editar configuración\n",
            "3. Cerrar sesión\n",
            "Elige un opcion (1-3): 2\n",
            "Ingresando al menú de ajustes...\n"
          ]
        }
      ]
    },
    {
      "cell_type": "markdown",
      "source": [
        "### Ejercicio 4"
      ],
      "metadata": {
        "id": "43ljPJYERyBp"
      }
    },
    {
      "cell_type": "code",
      "source": [
        "try:\n",
        "  mes = str(input('Ingrese un mes del año: '))\n",
        "  if mes.lower() == 'diciembre' or mes.lower() == 'enero' or mes.lower() == 'febrero':\n",
        "    print('Estamos en la estación de verano')\n",
        "  elif mes.lower() == 'marzo' or mes.lower() == 'abril' or mes.lower() == 'mayo':\n",
        "    print('Estamos en la estación de otoño')\n",
        "  elif mes.lower() == 'junio' or mes.lower() == 'julio' or mes.lower() == 'agosto':\n",
        "    print('Estamos en la estación de invierno')\n",
        "  elif mes.lower() == 'septiembre' or mes.lower() == 'octubre' or mes.lower() == 'noviembre':\n",
        "    print('Estamos en la estación de primavera')\n",
        "  else:\n",
        "    print('Ingrese el nombre de un mes.')\n",
        "except Exception as e:\n",
        "  print('Ingrese un valor valido.')"
      ],
      "metadata": {
        "colab": {
          "base_uri": "https://localhost:8080/"
        },
        "id": "QxDNyUSKPdGR",
        "outputId": "4df51076-b71a-42bb-86e9-dbedb3dc7bee"
      },
      "execution_count": null,
      "outputs": [
        {
          "output_type": "stream",
          "name": "stdout",
          "text": [
            "Ingrese un mes del año: 1245\n",
            "Ingrese el nombre de un mes.\n"
          ]
        }
      ]
    },
    {
      "cell_type": "markdown",
      "source": [
        "### Ejericio 5"
      ],
      "metadata": {
        "id": "ZexvS91prdzi"
      }
    },
    {
      "cell_type": "code",
      "source": [
        "num1 = float(input('Ingrese un número: '))\n",
        "num2 = float(input('Ingrese un número: '))\n",
        "\n",
        "print('---Menú de opciones---')\n",
        "print('1.- Suma')\n",
        "print('2.- Resta')\n",
        "print('3.- Multiplicacion')\n",
        "print('4.- Division')\n",
        "\n",
        "operacion = input('Ingrese una opcion entre 1, 2, 3 o 4 para realizar algunas de las operaciones: ')\n",
        "\n",
        "match operacion:\n",
        "  case '1':\n",
        "    resultado = num1 + num2\n",
        "  case '2':\n",
        "    resultado = num1 - num2\n",
        "  case '3':\n",
        "    resultado = num1 * num2\n",
        "  case '4':\n",
        "    try:\n",
        "      resultado = num1 / num2\n",
        "    except Exception as e:\n",
        "      resultado = 'Error: No se puede dividir por 0'\n",
        "print('El resultado es: ', resultado)"
      ],
      "metadata": {
        "colab": {
          "base_uri": "https://localhost:8080/"
        },
        "id": "7nKtUH_SRoYT",
        "outputId": "89a9c314-4f6c-49d2-99c5-66b30c74f873"
      },
      "execution_count": null,
      "outputs": [
        {
          "output_type": "stream",
          "name": "stdout",
          "text": [
            "Ingrese un número: 2\n",
            "Ingrese un número: 3\n",
            "---Menú de opciones---\n",
            "1.- Suma\n",
            "2.- Resta\n",
            "3.- Multiplicacion\n",
            "4.- Division\n",
            "Ingrese una opcion entre 1, 2, 3 o 4 para realizar algunas de las operaciones: 2\n",
            "El resultado es:  -1.0\n"
          ]
        }
      ]
    },
    {
      "cell_type": "markdown",
      "source": [
        "### Ejercicio 6"
      ],
      "metadata": {
        "id": "EFbkezE6z6Ar"
      }
    },
    {
      "cell_type": "code",
      "source": [
        "import random as r\n",
        "\n",
        "respuesta = 'Y'\n",
        "\n",
        "while respuesta.upper() == 'Y':\n",
        "  num_random = r.randint(1, 10)\n",
        "\n",
        "  num_usuario = int(input('Adivina el número: '))\n",
        "\n",
        "  if num_usuario == num_random:\n",
        "    print('Adivinaste :D')\n",
        "    respuesta = input('Quieres seguir jugando? Y / N: ')\n",
        "    if respuesta.upper() == 'N':\n",
        "      print('Gracias por participar.')\n",
        "  else:\n",
        "    respuesta = input('Fallaste :( ¿quieres volver a intentarlo? Y / N: ')\n",
        "    if respuesta.upper() == 'N':\n",
        "      print('Gracias por participar.')"
      ],
      "metadata": {
        "colab": {
          "base_uri": "https://localhost:8080/"
        },
        "id": "oj6Te30I0B_J",
        "outputId": "9a1ac377-128c-46fe-9a26-9d433e1a987e"
      },
      "execution_count": null,
      "outputs": [
        {
          "output_type": "stream",
          "name": "stdout",
          "text": [
            "Adivina el número: 3\n",
            "Adivinaste :D\n",
            "Quieres seguir jugando? Y / N: n\n",
            "Gracias por participar.\n"
          ]
        }
      ]
    },
    {
      "cell_type": "markdown",
      "source": [
        "## Estructuras de bucles"
      ],
      "metadata": {
        "id": "YQXoQkzxyabj"
      }
    },
    {
      "cell_type": "markdown",
      "source": [
        "### 'while'"
      ],
      "metadata": {
        "id": "yGyicCb_yo05"
      }
    },
    {
      "cell_type": "code",
      "source": [
        "contador = 1\n",
        "\n",
        "while contador <= 5:\n",
        "  print(contador)\n",
        "  contador += 1"
      ],
      "metadata": {
        "colab": {
          "base_uri": "https://localhost:8080/"
        },
        "id": "AWWqUN8Gc7Wt",
        "outputId": "40c646c4-be12-43d2-e0e9-4b25a194974d"
      },
      "execution_count": null,
      "outputs": [
        {
          "output_type": "stream",
          "name": "stdout",
          "text": [
            "1\n",
            "2\n",
            "3\n",
            "4\n",
            "5\n"
          ]
        }
      ]
    },
    {
      "cell_type": "markdown",
      "source": [
        "### 'for'"
      ],
      "metadata": {
        "id": "-Y-PonnpysRD"
      }
    },
    {
      "cell_type": "code",
      "source": [
        "nombres = ['Bastian', 'Elisa', 'Tomas']\n",
        "\n",
        "for nombre in nombres:\n",
        "  print(f'Hola {nombre}')"
      ],
      "metadata": {
        "colab": {
          "base_uri": "https://localhost:8080/"
        },
        "id": "V4ccGBD8yHam",
        "outputId": "6bb138a0-21ff-4c62-83e5-b7a3f87d3dac"
      },
      "execution_count": null,
      "outputs": [
        {
          "output_type": "stream",
          "name": "stdout",
          "text": [
            "Hola Bastian\n",
            "Hola Elisa\n",
            "Hola Tomas\n"
          ]
        }
      ]
    },
    {
      "cell_type": "markdown",
      "source": [
        "### 'in range'"
      ],
      "metadata": {
        "id": "cvbKVr9OyvfQ"
      }
    },
    {
      "cell_type": "code",
      "source": [
        "for i in range(1, 10, 2):\n",
        "  print(i)"
      ],
      "metadata": {
        "colab": {
          "base_uri": "https://localhost:8080/"
        },
        "id": "rEMHCNIZyPjy",
        "outputId": "c0d79f19-0bf3-4c29-d18f-dab55181788d"
      },
      "execution_count": null,
      "outputs": [
        {
          "output_type": "stream",
          "name": "stdout",
          "text": [
            "1\n",
            "3\n",
            "5\n",
            "7\n",
            "9\n"
          ]
        }
      ]
    },
    {
      "cell_type": "markdown",
      "source": [
        "## Funciones\n"
      ],
      "metadata": {
        "id": "629HyfcircDg"
      }
    },
    {
      "cell_type": "code",
      "source": [
        "def suma(num1, num2):\n",
        "  suma = num1 + num2\n",
        "  if suma > 10:\n",
        "    comp = True\n",
        "  else:\n",
        "    comp = False\n",
        "  return comp\n",
        "\n",
        "op1 = float(input('Ingrese un numero: '))\n",
        "op2 = float(input('Ingrese un numero: '))\n",
        "\n",
        "print('El resultado es: ', suma(op1, op2), 'y es ')"
      ],
      "metadata": {
        "id": "xsBDKY5gyUs8",
        "colab": {
          "base_uri": "https://localhost:8080/"
        },
        "outputId": "fe1e160b-3021-4972-a36a-302e7d0399cc"
      },
      "execution_count": null,
      "outputs": [
        {
          "output_type": "stream",
          "name": "stdout",
          "text": [
            "Ingrese un numero: 3\n",
            "Ingrese un numero: 4\n",
            "El resultado es:  7.0\n"
          ]
        }
      ]
    },
    {
      "cell_type": "markdown",
      "source": [
        "### Funciones main()"
      ],
      "metadata": {
        "id": "X_yHSdk9DQpK"
      }
    },
    {
      "cell_type": "code",
      "source": [
        "def main():\n",
        "  op1 = float(input('Ingrese el un numero: '))\n",
        "  op2 = float(input('Ingrese el un numero: '))\n",
        "  return print(f'La suma de ambos numero es {suma(op1, op2)}')\n",
        "\n",
        "def suma(num1, num2):\n",
        "  resultado = num1 + num2\n",
        "  return resultado\n",
        "if __name__ == '__main__':\n",
        "  main()"
      ],
      "metadata": {
        "colab": {
          "base_uri": "https://localhost:8080/"
        },
        "id": "3NKwzOhnr1BZ",
        "outputId": "335b0314-4da3-4561-b2e7-87157025d35e"
      },
      "execution_count": null,
      "outputs": [
        {
          "output_type": "stream",
          "name": "stdout",
          "text": [
            "Ingrese el un numero: 3\n",
            "Ingrese el un numero: 2\n",
            "La suma de ambos numero es 5.0\n"
          ]
        }
      ]
    },
    {
      "cell_type": "markdown",
      "source": [
        "## Estructuras de datos"
      ],
      "metadata": {
        "id": "KPQfDhIVA4e3"
      }
    },
    {
      "cell_type": "markdown",
      "source": [
        "### Listas"
      ],
      "metadata": {
        "id": "r9qv4VMFA7on"
      }
    },
    {
      "cell_type": "code",
      "source": [
        "list = [1, 2, 3, 4, 5]\n",
        "empty_list = []\n",
        "list_comb = [1, 'hola', 3.14, True, False, 5, 'adios']\n",
        "list.append(6)\n",
        "#print(list)\n",
        "list.insert(2, 10) #primero la posicion, luego el elemento\n",
        "#print(list)\n",
        "#print(list[-1])\n",
        "sub_list = list_comb[2:4] #los elementos del 2 al 4, sin incluir el ultimo\n",
        "#print(sub_list)\n",
        "sub_list_1 = list_comb[2:] #los elementos del 2 en adelante\n",
        "#print(sub_list_1)\n",
        "string = 'Bienvenidos al curso de Python'\n",
        "list_str = string.split()\n",
        "#print(list_str)\n",
        "palabras = ['Python', 'es', 'un', 'lenguaje', 'de', 'programación']\n",
        "frase = ' '.join(palabras)# las '' deben ir separadas\n",
        "#print(frase)\n",
        "matrix = [[1, 2], [3, 4], [5, 6]]\n",
        "print(matrix)\n",
        "print(matrix[2][0])"
      ],
      "metadata": {
        "id": "wco4Lzq1ARyF",
        "colab": {
          "base_uri": "https://localhost:8080/"
        },
        "outputId": "d61ee9f1-484d-4602-a2b6-4d6b77b44848"
      },
      "execution_count": null,
      "outputs": [
        {
          "output_type": "stream",
          "name": "stdout",
          "text": [
            "[[1, 2], [3, 4], [5, 6]]\n",
            "5\n"
          ]
        }
      ]
    },
    {
      "cell_type": "markdown",
      "source": [
        "### Lista por comprension"
      ],
      "metadata": {
        "id": "67_0pVO4L6ic"
      }
    },
    {
      "cell_type": "code",
      "source": [
        "#estructura => list = [expresion que quiero for item in interable de origen if condicion]\n",
        "dobles = []\n",
        "for numero in list:\n",
        "  dobles.append(numero * 2)\n",
        "print(dobles)\n",
        "dobles_pares = [numero * 2 for numero in list if numero % 2  == 0]\n",
        "print(dobles_pares)\n",
        "dobles_impares = [numero * 2 for numero in list if numero % 2 != 0]\n",
        "print(dobles_impares)"
      ],
      "metadata": {
        "colab": {
          "base_uri": "https://localhost:8080/"
        },
        "id": "Sb8zi5btB539",
        "outputId": "1a7509a3-eb70-4eba-9d8a-0ce759eb4e10"
      },
      "execution_count": null,
      "outputs": [
        {
          "output_type": "stream",
          "name": "stdout",
          "text": [
            "[2, 4, 20, 6, 8, 10, 12]\n",
            "[4, 20, 8, 12]\n",
            "[2, 6, 10]\n"
          ]
        }
      ]
    },
    {
      "cell_type": "markdown",
      "source": [
        "#### Ejercicio:\n",
        "\n",
        "1. Crea una lista llamada colores con \"rojo\", \"verde\", \"azul\".\n",
        "2. Agrega \"amarillo al final.\n",
        "3. Inserta \"morado\" en la segunda posición.\n",
        "4. Imprime el segundo elemento de la lista.\n",
        "5. Imprime una sublista que contenga \"verde\" y \"azul\".\n",
        "6. Divide la cadena \"Python es divertido\" en una lista de palabras.\n",
        "7. Crea una lista que contenga los valores [2,4,5,6,9,10]\n",
        "8. Obtener lista_nueva con los cuadrados de los valores de la lista anterior usando los dos metodos, for y compresion\n",
        "9. Mostrar solo en una nueva lista, los valores pares"
      ],
      "metadata": {
        "id": "JnkOYvBnUvTx"
      }
    },
    {
      "cell_type": "code",
      "source": [
        "colores = ['Rojo', 'Verde', 'Azul']\n",
        "print(colores)\n",
        "colores.append('Amarillo')\n",
        "print(colores)\n",
        "colores.insert(2, 'Morado')\n",
        "print(colores)\n",
        "print(colores[1])\n",
        "print(colores[1:4])\n",
        "string = 'Python es divertido'\n",
        "list = string.split()\n",
        "print(list)\n",
        "numeros = [2, 4, 5, 6, 9, 10]\n",
        "cuadrados = []\n",
        "for numero in numeros:\n",
        "  cuadrados.append(numero ** 2)\n",
        "print(cuadrados)\n",
        "cuadrados_compre = [numero ** 2 for numero in numeros]\n",
        "print(cuadrados_compre)\n",
        "cuadrados_pares = [numero ** 2 for numero in numeros if numero ** 2 % 2 == 0]\n",
        "print(cuadrados_pares)"
      ],
      "metadata": {
        "colab": {
          "base_uri": "https://localhost:8080/"
        },
        "id": "0lAJeH-DMGZq",
        "outputId": "02acc7be-11ce-451b-bed4-d2587daa3aaa"
      },
      "execution_count": null,
      "outputs": [
        {
          "output_type": "stream",
          "name": "stdout",
          "text": [
            "['Rojo', 'Verde', 'Azul']\n",
            "['Rojo', 'Verde', 'Azul', 'Amarillo']\n",
            "['Rojo', 'Verde', 'Morado', 'Azul', 'Amarillo']\n",
            "Verde\n",
            "['Verde', 'Morado', 'Azul']\n",
            "['Python', 'es', 'divertido']\n",
            "[4, 16, 25, 36, 81, 100]\n",
            "[4, 16, 25, 36, 81, 100]\n",
            "[4, 16, 36, 100]\n"
          ]
        }
      ]
    },
    {
      "cell_type": "markdown",
      "source": [
        "### Diccionario"
      ],
      "metadata": {
        "id": "qckHUwjbfwFE"
      }
    },
    {
      "cell_type": "code",
      "source": [
        "dict = {'nombre': 'Maria', 'apellido': 'Perez', 'edad': 25, 'ciudad': 'Valparaiso'}\n",
        "#print(dict)\n",
        "dict['RUT'] = '21116109-K' #agregar una clave al diccionario\n",
        "#print(dict)\n",
        "#print(dict['edad']) #acceder a una clave\n",
        "pais = dict.get('pais', 'No existe esta clave.')\n",
        "#print(pais)\n",
        "usuarios = {'usuario_1' : {'nombre': 'Maria', 'apellido': 'Perez', 'edad': 25, 'ciudad': 'Valparaiso'},\n",
        "            'usuario_2' : {'nombre': 'Tomas', 'apellido': 'Castro', 'edad': 30, 'ciudad': 'Santiago'},\n",
        "            'usuario_3' : {'nombre': 'Alicia', 'apellido': 'Alvarez', 'edad': 21, 'ciudad': 'Viña del Mar'}}\n",
        "print(usuarios)"
      ],
      "metadata": {
        "colab": {
          "base_uri": "https://localhost:8080/"
        },
        "id": "PGNeSBydPfa7",
        "outputId": "fb6c8536-fc6d-4fec-afa9-0fee17ea9b79"
      },
      "execution_count": null,
      "outputs": [
        {
          "output_type": "stream",
          "name": "stdout",
          "text": [
            "{'usuario_1': {'nombre': 'Maria', 'apellido': 'Perez', 'edad': 25, 'ciudad': 'Valparaiso'}, 'usuario_2': {'nombre': 'Tomas', 'apellido': 'Castro', 'edad': 30, 'ciudad': 'Santiago'}, 'usuario_3': {'nombre': 'Alicia', 'apellido': 'Alvarez', 'edad': 21, 'ciudad': 'Viña del Mar'}}\n"
          ]
        }
      ]
    },
    {
      "cell_type": "markdown",
      "source": [
        "#### Ejercicio:"
      ],
      "metadata": {
        "id": "qnoVoNegkF_v"
      }
    },
    {
      "cell_type": "code",
      "source": [
        "producto = {'nombre': 'Laptop', 'precio':'599990', 'stock': 3}\n",
        "producto['marca'] = 'HP'\n",
        "print(producto)\n",
        "print(producto['precio'])"
      ],
      "metadata": {
        "colab": {
          "base_uri": "https://localhost:8080/"
        },
        "id": "mqyaw7drgcWr",
        "outputId": "a0d1d66a-93d3-4bff-9c7c-d46c130a1821"
      },
      "execution_count": null,
      "outputs": [
        {
          "output_type": "stream",
          "name": "stdout",
          "text": [
            "{'nombre': 'Laptop', 'precio': '599990', 'stock': 3, 'marca': 'HP'}\n",
            "599990\n"
          ]
        }
      ]
    },
    {
      "cell_type": "markdown",
      "source": [
        "#### Ejercicio:"
      ],
      "metadata": {
        "id": "llzhXuJ4l52a"
      }
    },
    {
      "cell_type": "code",
      "source": [
        "libros = {'libro_1' :{'titulo': '100 años de soledad', 'autor': 'Gabriel Garcia Marquez',\n",
        "                      'detalles' : {'año': 1982, 'idioma': 'Español'}},\n",
        "         'libro_2': {'titulo': 'Ines del alma mia', 'autor': 'Isabel Allende',\n",
        "                    'detalles': {'año': 2005, 'idioma': 'Español'}}}\n",
        "\n",
        "print(libros)"
      ],
      "metadata": {
        "colab": {
          "base_uri": "https://localhost:8080/"
        },
        "id": "rMJdeoV9kLns",
        "outputId": "42a10314-6592-4f60-a3a6-cf11b11df141"
      },
      "execution_count": null,
      "outputs": [
        {
          "output_type": "stream",
          "name": "stdout",
          "text": [
            "{'libro_1': {'titulo': '100 años de soledad', 'autor': 'Gabriel Garcia Marquez', 'detalles': {'año': 1982, 'idioma': 'Español'}}, 'libro_2': {'titulo': 'Ines del alma mia', 'autor': 'Isabel Allende', 'detalles': {'año': 2005, 'idioma': 'Español'}}}\n"
          ]
        }
      ]
    },
    {
      "cell_type": "markdown",
      "source": [
        "### Tuplas"
      ],
      "metadata": {
        "id": "XMxsVQ54nGVO"
      }
    },
    {
      "cell_type": "code",
      "source": [
        "tuple = (1, 2, 3)\n",
        "#print(tuple)\n",
        "coordenadas = (10.0, 20.5)\n",
        "#print(coordenadas)\n",
        "elemento = (5, ) #sin la coma no es una tupla\n",
        "#print(elemento)\n",
        "#print(coordenadas[0])\n",
        "tuple_empaquetada = 1, 2, 3 #sin los parantesis igual lo toma como tupla\n",
        "print(tuple_empaquetada)\n",
        "a, b, c = tuple_empaquetada #se asiganan los valores\n",
        "print(a)\n",
        "print(b)\n",
        "print(c)"
      ],
      "metadata": {
        "colab": {
          "base_uri": "https://localhost:8080/"
        },
        "id": "7GrtQYdrl1ps",
        "outputId": "0febf605-bda7-41a1-a4ff-3a5b0c4f2eab"
      },
      "execution_count": null,
      "outputs": [
        {
          "output_type": "stream",
          "name": "stdout",
          "text": [
            "(1, 2, 3)\n",
            "1\n",
            "2\n",
            "3\n"
          ]
        }
      ]
    },
    {
      "cell_type": "markdown",
      "source": [
        "### Sets"
      ],
      "metadata": {
        "id": "ztQRKMasp2cG"
      }
    },
    {
      "cell_type": "code",
      "source": [
        "list = [1, 2, 1, True, 5.0, True, False] #la lista puede tener elementos repetidos\n",
        "conjunto = {1, 2, 3}\n",
        "#print(conjunto)\n",
        "set_duplicados = {1, 2, 2, 3, 4, 4, 5} #los conjuntos no admiten duplicados\n",
        "#print(set_duplicados)\n",
        "numeros = [1, 2, 2, 3, 4, 4]\n",
        "set_list = set(numeros)\n",
        "#print(set_list)\n",
        "set_a = {1, 2, 3, 4}\n",
        "set_b = {3, 4, 5, 6}\n",
        "union = set_a | set_b\n",
        "print(union)\n",
        "interseccion = set_a & set_b\n",
        "print(interseccion)"
      ],
      "metadata": {
        "colab": {
          "base_uri": "https://localhost:8080/"
        },
        "id": "xyXpNjRJnqBO",
        "outputId": "a5bd105d-a4c0-4088-e5b2-a8639ed082d0"
      },
      "execution_count": null,
      "outputs": [
        {
          "output_type": "stream",
          "name": "stdout",
          "text": [
            "{1, 2, 3, 4, 5, 6}\n",
            "{3, 4}\n"
          ]
        }
      ]
    },
    {
      "cell_type": "markdown",
      "source": [
        "## Programacion orientada a objetos"
      ],
      "metadata": {
        "id": "i-JMsyWBuEUM"
      }
    },
    {
      "cell_type": "code",
      "source": [
        "class Perro: #se inicia la instancia de definir el objeto, la primera en mayuscula\n",
        "  def __init__(self, nombre, edad): #se definen sus caracteristicas -> el constructor\n",
        "    self.nombre = nombre\n",
        "    self.edad = edad\n",
        "\n",
        "  def ladrar(self): #se definen sus acciones -> metodo de la clase\n",
        "    print(f'{self.nombre} esta ladrando')\n",
        "\n",
        "mi_perro = Perro('Firulais', 4) #se crea definen los valores de las caracteristicas del objeto\n",
        "\n",
        "print(f'Mi perro se llama {mi_perro.nombre} y tiene {mi_perro.edad} años')\n",
        "mi_perro.ladrar()"
      ],
      "metadata": {
        "id": "Ox00hJaNqqZk",
        "colab": {
          "base_uri": "https://localhost:8080/"
        },
        "outputId": "0f088cfd-ad05-4ccf-a13d-c9c0e355341d"
      },
      "execution_count": null,
      "outputs": [
        {
          "output_type": "stream",
          "name": "stdout",
          "text": [
            "Mi perro se llama Firulais y tiene 4 años\n",
            "Firulais esta ladrando\n"
          ]
        }
      ]
    },
    {
      "cell_type": "markdown",
      "source": [
        "Conceptos basicos de POO:\n",
        "\n",
        "1.- Abstraccion: enfoque orientado a detalles relevantes.\n",
        "\n",
        "2.- Encapsulacion: agrupar datos y metodos para manipularlos y/o controlarlos.\n",
        "\n",
        "*Ejemplo*: codigo de cuenta bancaria del ppt.\n",
        "\n",
        "Comentario: el atributo privado es una **convension**. A nivel de desarrollo, indica que no se debe acceder a ese dato desde metodos externos."
      ],
      "metadata": {
        "id": "w1gqR9qlJsEq"
      }
    },
    {
      "cell_type": "markdown",
      "source": [
        "#### Herencia"
      ],
      "metadata": {
        "id": "iT9arp_OVAhG"
      }
    },
    {
      "cell_type": "code",
      "source": [
        "# Clase base: libro con los atributos de titulo, autor y precio\n",
        "class Libro:\n",
        "    def __init__(self, titulo, autor, precio):\n",
        "        self.titulo = titulo\n",
        "        self.autor = autor\n",
        "        self.precio = precio\n",
        "\n",
        "    def mostrar_info(self):\n",
        "        print(f\"'{self.titulo}' por {self.autor}, precio: ${self.precio:.2f}\")\n",
        "\n",
        "# Subclase para libros físicos: hereda los atributos de titulo, autor y precio, pero le agrega el precio\n",
        "class LibroFisico(Libro):\n",
        "    def __init__(self, titulo, autor, precio, peso):\n",
        "        super().__init__(titulo, autor, precio)  # hereda del constructor de Libro\n",
        "        self.peso = peso  #agrega el nuevo atributos, en gramos\n",
        "\n",
        "    def mostrar_info(self):\n",
        "        super().mostrar_info()\n",
        "        print(f'Tipo: Físico, Peso: {self.peso}g')\n",
        "\n",
        "# Subclase para libros digitales: hereda los atributos de titulo, autor y precio, agregando el formato\n",
        "class LibroDigital(Libro):\n",
        "    def __init__(self, titulo, autor, precio, formato):\n",
        "        super().__init__(titulo, autor, precio) #hereda del constructor de LIbro\n",
        "        self.formato = formato #el nuevo atributo\n",
        "\n",
        "    def mostrar_info(self):\n",
        "        super().mostrar_info()\n",
        "        print(f'Tipo: Digital, Formato: {self.formato}')\n",
        "\n",
        "# Uso del código\n",
        "libro1 = LibroFisico('Cien años de soledad', 'Gabriel García Márquez', 12.99, 450)\n",
        "libro2 = LibroDigital('Python para principiantes', 'Ana Pérez', 8.99, 'PDF')\n",
        "\n",
        "libro1.mostrar_info()\n",
        "print()\n",
        "libro2.mostrar_info()"
      ],
      "metadata": {
        "id": "CyOY9EzpxcsN",
        "colab": {
          "base_uri": "https://localhost:8080/"
        },
        "outputId": "70c236b4-f49f-4016-aa28-6823a28ca690"
      },
      "execution_count": null,
      "outputs": [
        {
          "output_type": "stream",
          "name": "stdout",
          "text": [
            "'Cien años de soledad' por Gabriel García Márquez, precio: $12.99\n",
            "Tipo: Físico, Peso: 450g\n",
            "\n",
            "'Python para principiantes' por Ana Pérez, precio: $8.99\n",
            "Tipo: Digital, Formato: PDF\n"
          ]
        }
      ]
    },
    {
      "cell_type": "code",
      "source": [],
      "metadata": {
        "id": "jPlr5JeXYuWX"
      },
      "execution_count": null,
      "outputs": []
    }
  ]
}