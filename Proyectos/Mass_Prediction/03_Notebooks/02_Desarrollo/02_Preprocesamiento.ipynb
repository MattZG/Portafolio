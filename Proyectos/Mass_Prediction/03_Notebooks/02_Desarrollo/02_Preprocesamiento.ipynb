{
 "cells": [
  {
   "cell_type": "markdown",
   "id": "f4196d42-1718-4ffc-ac1d-3cf7bcd56716",
   "metadata": {},
   "source": [
    "# Preprocesamiento de los datos"
   ]
  },
  {
   "cell_type": "markdown",
   "id": "ef2432ce-347f-4f49-8d08-eb6e3445becf",
   "metadata": {},
   "source": [
    "## 1. Carga de los modulos"
   ]
  },
  {
   "cell_type": "code",
   "execution_count": 1,
   "id": "3c8a5eb4-7fc4-4a16-b071-bb2cf5fa9194",
   "metadata": {},
   "outputs": [],
   "source": [
    "import pandas as pd\n",
    "import numpy as np"
   ]
  },
  {
   "cell_type": "markdown",
   "id": "7d10dc45-fee2-4eb5-ac8e-e5b0702b7283",
   "metadata": {},
   "source": [
    "## 2. Carga de los datos"
   ]
  },
  {
   "cell_type": "code",
   "execution_count": 2,
   "id": "13b922c4-da0a-41a8-a1b2-d197f962090d",
   "metadata": {},
   "outputs": [],
   "source": [
    "ruta = 'C:/Users/matia/OneDrive/Escritorio/Mass_Prediction'"
   ]
  },
  {
   "cell_type": "code",
   "execution_count": 3,
   "id": "24af597a-eed6-471b-b317-4e656acd02f4",
   "metadata": {},
   "outputs": [],
   "source": [
    "datos = 'trabajo.csv'"
   ]
  },
  {
   "cell_type": "code",
   "execution_count": 5,
   "id": "5446ef0d-797a-45d3-a68a-634ce89bb96b",
   "metadata": {},
   "outputs": [
    {
     "data": {
      "text/html": [
       "<div>\n",
       "<style scoped>\n",
       "    .dataframe tbody tr th:only-of-type {\n",
       "        vertical-align: middle;\n",
       "    }\n",
       "\n",
       "    .dataframe tbody tr th {\n",
       "        vertical-align: top;\n",
       "    }\n",
       "\n",
       "    .dataframe thead th {\n",
       "        text-align: right;\n",
       "    }\n",
       "</style>\n",
       "<table border=\"1\" class=\"dataframe\">\n",
       "  <thead>\n",
       "    <tr style=\"text-align: right;\">\n",
       "      <th></th>\n",
       "      <th>Run</th>\n",
       "      <th>Event</th>\n",
       "      <th>E1</th>\n",
       "      <th>px1</th>\n",
       "      <th>py1</th>\n",
       "      <th>pz1</th>\n",
       "      <th>pt1</th>\n",
       "      <th>eta1</th>\n",
       "      <th>phi1</th>\n",
       "      <th>Q1</th>\n",
       "      <th>E2</th>\n",
       "      <th>px2</th>\n",
       "      <th>py2</th>\n",
       "      <th>pz2</th>\n",
       "      <th>pt2</th>\n",
       "      <th>eta2</th>\n",
       "      <th>phi2</th>\n",
       "      <th>Q2</th>\n",
       "      <th>M</th>\n",
       "    </tr>\n",
       "  </thead>\n",
       "  <tbody>\n",
       "    <tr>\n",
       "      <th>0</th>\n",
       "      <td>147115</td>\n",
       "      <td>366639895</td>\n",
       "      <td>58.71410</td>\n",
       "      <td>-7.31132</td>\n",
       "      <td>10.531000</td>\n",
       "      <td>-57.29740</td>\n",
       "      <td>12.82020</td>\n",
       "      <td>-2.202670</td>\n",
       "      <td>2.177660</td>\n",
       "      <td>1</td>\n",
       "      <td>11.28360</td>\n",
       "      <td>-1.03234</td>\n",
       "      <td>-1.88066</td>\n",
       "      <td>-11.07780</td>\n",
       "      <td>2.14537</td>\n",
       "      <td>-2.344030</td>\n",
       "      <td>-2.07281</td>\n",
       "      <td>-1</td>\n",
       "      <td>8.94841</td>\n",
       "    </tr>\n",
       "    <tr>\n",
       "      <th>1</th>\n",
       "      <td>147115</td>\n",
       "      <td>366704169</td>\n",
       "      <td>6.61188</td>\n",
       "      <td>-4.15213</td>\n",
       "      <td>-0.579855</td>\n",
       "      <td>-5.11278</td>\n",
       "      <td>4.19242</td>\n",
       "      <td>-1.028420</td>\n",
       "      <td>-3.002840</td>\n",
       "      <td>-1</td>\n",
       "      <td>17.14920</td>\n",
       "      <td>-11.71350</td>\n",
       "      <td>5.04474</td>\n",
       "      <td>11.46470</td>\n",
       "      <td>12.75360</td>\n",
       "      <td>0.808077</td>\n",
       "      <td>2.73492</td>\n",
       "      <td>1</td>\n",
       "      <td>15.89300</td>\n",
       "    </tr>\n",
       "    <tr>\n",
       "      <th>5</th>\n",
       "      <td>147115</td>\n",
       "      <td>366663412</td>\n",
       "      <td>6.39616</td>\n",
       "      <td>-5.45672</td>\n",
       "      <td>-2.090680</td>\n",
       "      <td>-2.60078</td>\n",
       "      <td>5.84352</td>\n",
       "      <td>-0.431551</td>\n",
       "      <td>-2.775710</td>\n",
       "      <td>-1</td>\n",
       "      <td>21.38650</td>\n",
       "      <td>15.16980</td>\n",
       "      <td>-8.87030</td>\n",
       "      <td>-12.18930</td>\n",
       "      <td>17.57280</td>\n",
       "      <td>-0.647450</td>\n",
       "      <td>-0.52912</td>\n",
       "      <td>-1</td>\n",
       "      <td>18.40230</td>\n",
       "    </tr>\n",
       "    <tr>\n",
       "      <th>7</th>\n",
       "      <td>147115</td>\n",
       "      <td>367133576</td>\n",
       "      <td>77.00570</td>\n",
       "      <td>10.00290</td>\n",
       "      <td>9.175450</td>\n",
       "      <td>-75.80000</td>\n",
       "      <td>13.57370</td>\n",
       "      <td>-2.421030</td>\n",
       "      <td>0.742282</td>\n",
       "      <td>1</td>\n",
       "      <td>9.11623</td>\n",
       "      <td>-1.72295</td>\n",
       "      <td>-1.48674</td>\n",
       "      <td>-8.82761</td>\n",
       "      <td>2.27574</td>\n",
       "      <td>-2.064940</td>\n",
       "      <td>-2.42965</td>\n",
       "      <td>1</td>\n",
       "      <td>11.29120</td>\n",
       "    </tr>\n",
       "    <tr>\n",
       "      <th>9</th>\n",
       "      <td>147115</td>\n",
       "      <td>367825395</td>\n",
       "      <td>27.88120</td>\n",
       "      <td>11.93900</td>\n",
       "      <td>-18.346200</td>\n",
       "      <td>17.26960</td>\n",
       "      <td>21.88880</td>\n",
       "      <td>0.724032</td>\n",
       "      <td>-0.993887</td>\n",
       "      <td>1</td>\n",
       "      <td>12.92180</td>\n",
       "      <td>-5.02630</td>\n",
       "      <td>11.60260</td>\n",
       "      <td>2.66263</td>\n",
       "      <td>12.64450</td>\n",
       "      <td>0.209050</td>\n",
       "      <td>1.97960</td>\n",
       "      <td>-1</td>\n",
       "      <td>34.26850</td>\n",
       "    </tr>\n",
       "  </tbody>\n",
       "</table>\n",
       "</div>"
      ],
      "text/plain": [
       "      Run      Event        E1      px1         py1       pz1       pt1  \\\n",
       "0  147115  366639895  58.71410  -7.31132  10.531000 -57.29740  12.82020   \n",
       "1  147115  366704169   6.61188  -4.15213  -0.579855  -5.11278   4.19242   \n",
       "5  147115  366663412   6.39616  -5.45672  -2.090680  -2.60078   5.84352   \n",
       "7  147115  367133576  77.00570  10.00290   9.175450 -75.80000  13.57370   \n",
       "9  147115  367825395  27.88120  11.93900 -18.346200  17.26960  21.88880   \n",
       "\n",
       "       eta1      phi1  Q1        E2       px2       py2       pz2       pt2  \\\n",
       "0 -2.202670  2.177660   1  11.28360  -1.03234  -1.88066 -11.07780   2.14537   \n",
       "1 -1.028420 -3.002840  -1  17.14920 -11.71350   5.04474  11.46470  12.75360   \n",
       "5 -0.431551 -2.775710  -1  21.38650  15.16980  -8.87030 -12.18930  17.57280   \n",
       "7 -2.421030  0.742282   1   9.11623  -1.72295  -1.48674  -8.82761   2.27574   \n",
       "9  0.724032 -0.993887   1  12.92180  -5.02630  11.60260   2.66263  12.64450   \n",
       "\n",
       "       eta2     phi2  Q2         M  \n",
       "0 -2.344030 -2.07281  -1   8.94841  \n",
       "1  0.808077  2.73492   1  15.89300  \n",
       "5 -0.647450 -0.52912  -1  18.40230  \n",
       "7 -2.064940 -2.42965   1  11.29120  \n",
       "9  0.209050  1.97960  -1  34.26850  "
      ]
     },
     "execution_count": 5,
     "metadata": {},
     "output_type": "execute_result"
    }
   ],
   "source": [
    "ruta_completa = ruta + '/02_Datos/03_Trabajo/' + datos\n",
    "df = pd.read_csv(ruta_completa, index_col = 0, delimiter = ',')\n",
    "df.head()"
   ]
  },
  {
   "cell_type": "markdown",
   "id": "9cc302cc-c03e-4b51-a810-dc9fc452f7f1",
   "metadata": {},
   "source": [
    "## 3. Revisión de los datos"
   ]
  },
  {
   "cell_type": "markdown",
   "id": "389d246a-223d-409b-9b79-9b02db576ae7",
   "metadata": {},
   "source": [
    "### 3.1 Vista general"
   ]
  },
  {
   "cell_type": "code",
   "execution_count": 6,
   "id": "78b37950-7538-4ea7-b195-34f01d91d495",
   "metadata": {},
   "outputs": [
    {
     "name": "stdout",
     "output_type": "stream",
     "text": [
      "<class 'pandas.core.frame.DataFrame'>\n",
      "Index: 70000 entries, 0 to 99997\n",
      "Data columns (total 19 columns):\n",
      " #   Column  Non-Null Count  Dtype  \n",
      "---  ------  --------------  -----  \n",
      " 0   Run     70000 non-null  int64  \n",
      " 1   Event   70000 non-null  int64  \n",
      " 2   E1      70000 non-null  float64\n",
      " 3   px1     70000 non-null  float64\n",
      " 4   py1     70000 non-null  float64\n",
      " 5   pz1     70000 non-null  float64\n",
      " 6   pt1     70000 non-null  float64\n",
      " 7   eta1    70000 non-null  float64\n",
      " 8   phi1    70000 non-null  float64\n",
      " 9   Q1      70000 non-null  int64  \n",
      " 10  E2      70000 non-null  float64\n",
      " 11  px2     70000 non-null  float64\n",
      " 12  py2     70000 non-null  float64\n",
      " 13  pz2     70000 non-null  float64\n",
      " 14  pt2     70000 non-null  float64\n",
      " 15  eta2    70000 non-null  float64\n",
      " 16  phi2    70000 non-null  float64\n",
      " 17  Q2      70000 non-null  int64  \n",
      " 18  M       69944 non-null  float64\n",
      "dtypes: float64(15), int64(4)\n",
      "memory usage: 10.7 MB\n"
     ]
    }
   ],
   "source": [
    "df.info()"
   ]
  },
  {
   "cell_type": "markdown",
   "id": "34d86bfd-73c6-4992-aaed-1336a765c05d",
   "metadata": {},
   "source": [
    "La variable *M* tiene datos nulos, hay que tener esto en cuenta antes de seguir avanzando."
   ]
  },
  {
   "cell_type": "markdown",
   "id": "fe035a14-9609-4e13-afbb-4918271b50d2",
   "metadata": {},
   "source": [
    "### 3.2 Valores unicos"
   ]
  },
  {
   "cell_type": "code",
   "execution_count": 7,
   "id": "074db481-8fd4-4749-a539-669ad85ad6c6",
   "metadata": {},
   "outputs": [
    {
     "data": {
      "text/plain": [
       "Run         13\n",
       "Event    69990\n",
       "E1       67896\n",
       "px1      68661\n",
       "py1      68635\n",
       "pz1      69097\n",
       "pt1      65847\n",
       "eta1     66983\n",
       "phi1     67339\n",
       "Q1           2\n",
       "E2       67729\n",
       "px2      68739\n",
       "py2      68678\n",
       "pz2      68966\n",
       "pt2      66408\n",
       "eta2     64860\n",
       "phi2     67259\n",
       "Q2           2\n",
       "M        66604\n",
       "dtype: int64"
      ]
     },
     "execution_count": 7,
     "metadata": {},
     "output_type": "execute_result"
    }
   ],
   "source": [
    "df.nunique()"
   ]
  },
  {
   "cell_type": "markdown",
   "id": "c35e26ef-aeb1-45fc-bf6c-834b71f3978b",
   "metadata": {},
   "source": [
    "Da la impresión que hay registros duplicados, hay que revisar eso."
   ]
  },
  {
   "cell_type": "markdown",
   "id": "61321ed1-1b5d-4ab1-b2f4-f25e083c8ce5",
   "metadata": {},
   "source": [
    "## 4. Calidad de datos"
   ]
  },
  {
   "cell_type": "markdown",
   "id": "67b518e2-f69c-484f-b937-3bb47ec3ba60",
   "metadata": {},
   "source": [
    "### 4.1 Valores nulos"
   ]
  },
  {
   "cell_type": "code",
   "execution_count": 8,
   "id": "859ad1fa-7dfb-4e06-96d0-8e7822ee472b",
   "metadata": {},
   "outputs": [
    {
     "data": {
      "text/plain": [
       "Run       0\n",
       "Event     0\n",
       "E1        0\n",
       "px1       0\n",
       "py1       0\n",
       "pz1       0\n",
       "pt1       0\n",
       "eta1      0\n",
       "phi1      0\n",
       "Q1        0\n",
       "E2        0\n",
       "px2       0\n",
       "py2       0\n",
       "pz2       0\n",
       "pt2       0\n",
       "eta2      0\n",
       "phi2      0\n",
       "Q2        0\n",
       "M        56\n",
       "dtype: int64"
      ]
     },
     "execution_count": 8,
     "metadata": {},
     "output_type": "execute_result"
    }
   ],
   "source": [
    "df.isnull().sum()"
   ]
  },
  {
   "cell_type": "markdown",
   "id": "be3fd7bb-9ce4-4047-ae1e-640b010758bd",
   "metadata": {},
   "source": [
    "Para imputar estos datos hay que revisar la estadistica de la variable, para determinar como la vamos imputar."
   ]
  },
  {
   "cell_type": "code",
   "execution_count": 9,
   "id": "79191fff-e4c1-474c-859a-b1b81c7a60dd",
   "metadata": {},
   "outputs": [
    {
     "data": {
      "text/plain": [
       "count    69944.000000\n",
       "mean        30.033896\n",
       "std         25.223775\n",
       "min          2.000080\n",
       "25%         12.473875\n",
       "50%         21.331700\n",
       "75%         39.050425\n",
       "max        109.999000\n",
       "Name: M, dtype: float64"
      ]
     },
     "execution_count": 9,
     "metadata": {},
     "output_type": "execute_result"
    }
   ],
   "source": [
    "df['M'].describe()"
   ]
  },
  {
   "cell_type": "markdown",
   "id": "7fc39618-f885-4c6c-94d8-a4d2510aaa54",
   "metadata": {},
   "source": [
    "El promedio me parece la opcion adecuada para imputar."
   ]
  },
  {
   "cell_type": "code",
   "execution_count": 10,
   "id": "373f16d7-34ba-40bc-a317-69e22634e5d0",
   "metadata": {},
   "outputs": [
    {
     "name": "stderr",
     "output_type": "stream",
     "text": [
      "C:\\Users\\matia\\AppData\\Local\\Temp\\ipykernel_13856\\2633388338.py:1: FutureWarning: A value is trying to be set on a copy of a DataFrame or Series through chained assignment using an inplace method.\n",
      "The behavior will change in pandas 3.0. This inplace method will never work because the intermediate object on which we are setting values always behaves as a copy.\n",
      "\n",
      "For example, when doing 'df[col].method(value, inplace=True)', try using 'df.method({col: value}, inplace=True)' or df[col] = df[col].method(value) instead, to perform the operation inplace on the original object.\n",
      "\n",
      "\n",
      "  df['M'].fillna(df['M'].mean(), inplace = True)\n"
     ]
    }
   ],
   "source": [
    "df['M'].fillna(df['M'].mean(), inplace = True)"
   ]
  },
  {
   "cell_type": "markdown",
   "id": "50e8a71e-c351-4c19-a4d7-29f18e3ca844",
   "metadata": {},
   "source": [
    "### 4.2 Registros duplicados"
   ]
  },
  {
   "cell_type": "code",
   "execution_count": 11,
   "id": "f2dd2800-c598-4627-8d2d-801397e53533",
   "metadata": {},
   "outputs": [
    {
     "data": {
      "text/plain": [
       "9"
      ]
     },
     "execution_count": 11,
     "metadata": {},
     "output_type": "execute_result"
    }
   ],
   "source": [
    "df.duplicated().sum()"
   ]
  },
  {
   "cell_type": "code",
   "execution_count": 12,
   "id": "d7efeb5b-399f-4d9f-a6a8-8036ad8b488f",
   "metadata": {},
   "outputs": [],
   "source": [
    "df = df.drop_duplicates()"
   ]
  },
  {
   "cell_type": "markdown",
   "id": "c3220f3a-ac1e-494a-9865-802b8673e332",
   "metadata": {},
   "source": [
    "Eliminamos los duplicados.\n",
    "\n",
    "**Comentario:** hay que considerar la posibilidad de realizar este mismo proceso en el dataset de validación, para no enfretar conflictos con el modelo de ML."
   ]
  },
  {
   "cell_type": "markdown",
   "id": "3bf7e7e4-4946-4ea7-92e0-42a521ab19fd",
   "metadata": {},
   "source": [
    "## 5. Guardar el dataset"
   ]
  },
  {
   "cell_type": "code",
   "execution_count": 13,
   "id": "5fbe12ad-799c-4813-8fb2-c4e928d6e036",
   "metadata": {},
   "outputs": [],
   "source": [
    "ruta_trabajo = ruta + '/02_Datos/03_Trabajo/' + 'trabajo_resultado_preprocesamiento.pickle'"
   ]
  },
  {
   "cell_type": "code",
   "execution_count": 14,
   "id": "431bdb3d-4c45-4feb-b91c-3f483146ffd4",
   "metadata": {},
   "outputs": [],
   "source": [
    "df.to_pickle(ruta_trabajo)"
   ]
  },
  {
   "cell_type": "code",
   "execution_count": null,
   "id": "1233ca7a-97c3-4884-b8a1-74002f63cf32",
   "metadata": {},
   "outputs": [],
   "source": []
  }
 ],
 "metadata": {
  "kernelspec": {
   "display_name": "Python 3 (ipykernel)",
   "language": "python",
   "name": "python3"
  },
  "language_info": {
   "codemirror_mode": {
    "name": "ipython",
    "version": 3
   },
   "file_extension": ".py",
   "mimetype": "text/x-python",
   "name": "python",
   "nbconvert_exporter": "python",
   "pygments_lexer": "ipython3",
   "version": "3.12.4"
  }
 },
 "nbformat": 4,
 "nbformat_minor": 5
}
