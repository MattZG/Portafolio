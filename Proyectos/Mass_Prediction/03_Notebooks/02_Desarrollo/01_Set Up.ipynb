{
 "cells": [
  {
   "cell_type": "markdown",
   "id": "88094b04",
   "metadata": {},
   "source": [
    "# SET UP"
   ]
  },
  {
   "cell_type": "markdown",
   "id": "f442e8c8-5ae7-4445-8b0b-eab642a92939",
   "metadata": {},
   "source": [
    "El proposito de este mini proyecto es explorar tecnicas para tratar los valores nulos de un dataset. He decidido tratarlo con un proyecto de data science porque considero que le otorga estructura y facilidad de compresión cuando desee volver a revisar o mejorar.\n",
    "\n",
    "La linea de trabajo de planeo seguir es una etapa de calidad de datos, para tener una perspectiva general del dataset. Luego un analisis explotario por medio de graficos, buscando relacion o tendencias en la data que pueden ser relevantes para mejorar mi entendimiento de la informacion. Con ello pasamos al objetivo que es aplicar diferentes metodos para trabajar valores nulos y  ver el impacto que tiene en el algoritmo. Así, elegir el metodo de entrega mejor resultado y buscar el modelo que se adapte mejor para llegar al resultado optimo."
   ]
  },
  {
   "cell_type": "markdown",
   "id": "234469e4",
   "metadata": {},
   "source": [
    "## IMPORTAR PAQUETES"
   ]
  },
  {
   "cell_type": "code",
   "execution_count": 2,
   "id": "18dab684",
   "metadata": {},
   "outputs": [],
   "source": [
    "import os\n",
    "import numpy as np\n",
    "import pandas as pd\n",
    "\n",
    "#Automcompletar rápido\n",
    "%config IPCompleter.greedy=True"
   ]
  },
  {
   "cell_type": "markdown",
   "id": "aa2291ac",
   "metadata": {},
   "source": [
    "## CREAR EL DIRECTORIO DEL PROYECTO"
   ]
  },
  {
   "cell_type": "markdown",
   "id": "9b376a0e",
   "metadata": {},
   "source": [
    "### Definir el directorio raiz donde vamos a crear el proyecto"
   ]
  },
  {
   "cell_type": "code",
   "execution_count": 3,
   "id": "ff896569",
   "metadata": {},
   "outputs": [],
   "source": [
    "raiz = 'C:/Users/matia/OneDrive/Escritorio/'"
   ]
  },
  {
   "cell_type": "markdown",
   "id": "ded3d58c",
   "metadata": {},
   "source": [
    "### Definir el nombre del proyecto"
   ]
  },
  {
   "cell_type": "code",
   "execution_count": 4,
   "id": "3b7dece1",
   "metadata": {},
   "outputs": [],
   "source": [
    "nombre_dir = 'Mass_Prediction'"
   ]
  },
  {
   "cell_type": "markdown",
   "id": "e98c881a",
   "metadata": {},
   "source": [
    "### Crear el directorio y la estructura del proyecto"
   ]
  },
  {
   "cell_type": "code",
   "execution_count": 5,
   "id": "ea789940",
   "metadata": {},
   "outputs": [],
   "source": [
    "path = raiz + nombre_dir"
   ]
  },
  {
   "cell_type": "code",
   "execution_count": 6,
   "id": "ef24e4c0-48f4-4e2a-99d2-5318049c995b",
   "metadata": {},
   "outputs": [
    {
     "name": "stdout",
     "output_type": "stream",
     "text": [
      "La creación del directorio C:/Users/matia/OneDrive/Escritorio/Mass_Prediction ha fallado\n"
     ]
    }
   ],
   "source": [
    "try:\n",
    "     os.mkdir(path)\n",
    "     os.mkdir(path + '/01_Documentos')\n",
    "     os.mkdir(path + '/02_Datos')\n",
    "     os.mkdir(path + '/02_Datos/01_Originales')\n",
    "     os.mkdir(path + '/02_Datos/02_Validacion')\n",
    "     os.mkdir(path + '/02_Datos/03_Trabajo')\n",
    "     os.mkdir(path + '/02_Datos/04_Caches')\n",
    "     os.mkdir(path + '/03_Notebooks')\n",
    "     os.mkdir(path + '/03_Notebooks/01_Funciones')\n",
    "     os.mkdir(path + '/03_Notebooks/02_Desarrollo')\n",
    "     os.mkdir(path + '/03_Notebooks/03_Sistema')\n",
    "     os.mkdir(path + '/04_Modelos')\n",
    "     os.mkdir(path + '/05_Resultados')\n",
    "     os.mkdir(path + '/09_Otros')\n",
    "    \n",
    "except OSError:\n",
    "     print (\"La creación del directorio %s ha fallado\" % path)\n",
    "else:\n",
    "     print (\"Se ha creado satisfactoriamente el directorio %s \" % path)"
   ]
  },
  {
   "cell_type": "markdown",
   "id": "d9807988-72c8-42ea-9606-2a9153d641d5",
   "metadata": {},
   "source": [
    "Entrega un error dado que el directorio ya esta creado."
   ]
  },
  {
   "cell_type": "markdown",
   "id": "fbdda974",
   "metadata": {},
   "source": [
    "### Situar el directorio de trabajo en el proyecto"
   ]
  },
  {
   "cell_type": "code",
   "execution_count": 7,
   "id": "6cf7027a",
   "metadata": {},
   "outputs": [],
   "source": [
    "os.chdir(path)"
   ]
  },
  {
   "cell_type": "markdown",
   "id": "c80bcf5b",
   "metadata": {},
   "source": [
    "### Mover el environment.yml"
   ]
  },
  {
   "cell_type": "markdown",
   "id": "5cfd72fa",
   "metadata": {},
   "source": [
    "Buscar manualmente el archivo riesgos.yml, que posiblemente lo haya ubicado en C:\\Users\\tu_usuario y moverlo a la carpeta /01_Documentos'"
   ]
  },
  {
   "cell_type": "markdown",
   "id": "eaae5ba8",
   "metadata": {},
   "source": [
    "## CREAR LOS DATASETS INICIALES"
   ]
  },
  {
   "cell_type": "markdown",
   "id": "18e327d2",
   "metadata": {},
   "source": [
    "Poner los datos originales en la carpeta '/02_Datos/01_Originales'"
   ]
  },
  {
   "cell_type": "markdown",
   "id": "7e6b4179",
   "metadata": {},
   "source": [
    "### Importar los datos"
   ]
  },
  {
   "cell_type": "markdown",
   "id": "a0aada6d",
   "metadata": {},
   "source": [
    "Sustituir el nombre_fichero_datos."
   ]
  },
  {
   "cell_type": "code",
   "execution_count": 8,
   "id": "a991faf3",
   "metadata": {},
   "outputs": [],
   "source": [
    "nombre_fichero_datos = 'dielectron.csv'"
   ]
  },
  {
   "cell_type": "markdown",
   "id": "6f69525e",
   "metadata": {},
   "source": [
    "Cargar los datos."
   ]
  },
  {
   "cell_type": "code",
   "execution_count": 9,
   "id": "0af0f484",
   "metadata": {},
   "outputs": [
    {
     "data": {
      "text/html": [
       "<div>\n",
       "<style scoped>\n",
       "    .dataframe tbody tr th:only-of-type {\n",
       "        vertical-align: middle;\n",
       "    }\n",
       "\n",
       "    .dataframe tbody tr th {\n",
       "        vertical-align: top;\n",
       "    }\n",
       "\n",
       "    .dataframe thead th {\n",
       "        text-align: right;\n",
       "    }\n",
       "</style>\n",
       "<table border=\"1\" class=\"dataframe\">\n",
       "  <thead>\n",
       "    <tr style=\"text-align: right;\">\n",
       "      <th></th>\n",
       "      <th>Run</th>\n",
       "      <th>Event</th>\n",
       "      <th>E1</th>\n",
       "      <th>px1</th>\n",
       "      <th>py1</th>\n",
       "      <th>pz1</th>\n",
       "      <th>pt1</th>\n",
       "      <th>eta1</th>\n",
       "      <th>phi1</th>\n",
       "      <th>Q1</th>\n",
       "      <th>E2</th>\n",
       "      <th>px2</th>\n",
       "      <th>py2</th>\n",
       "      <th>pz2</th>\n",
       "      <th>pt2</th>\n",
       "      <th>eta2</th>\n",
       "      <th>phi2</th>\n",
       "      <th>Q2</th>\n",
       "      <th>M</th>\n",
       "    </tr>\n",
       "  </thead>\n",
       "  <tbody>\n",
       "    <tr>\n",
       "      <th>0</th>\n",
       "      <td>147115</td>\n",
       "      <td>366639895</td>\n",
       "      <td>58.71410</td>\n",
       "      <td>-7.311320</td>\n",
       "      <td>10.531000</td>\n",
       "      <td>-57.29740</td>\n",
       "      <td>12.82020</td>\n",
       "      <td>-2.202670</td>\n",
       "      <td>2.177660</td>\n",
       "      <td>1</td>\n",
       "      <td>11.28360</td>\n",
       "      <td>-1.032340</td>\n",
       "      <td>-1.88066</td>\n",
       "      <td>-11.077800</td>\n",
       "      <td>2.14537</td>\n",
       "      <td>-2.344030</td>\n",
       "      <td>-2.072810</td>\n",
       "      <td>-1</td>\n",
       "      <td>8.94841</td>\n",
       "    </tr>\n",
       "    <tr>\n",
       "      <th>1</th>\n",
       "      <td>147115</td>\n",
       "      <td>366704169</td>\n",
       "      <td>6.61188</td>\n",
       "      <td>-4.152130</td>\n",
       "      <td>-0.579855</td>\n",
       "      <td>-5.11278</td>\n",
       "      <td>4.19242</td>\n",
       "      <td>-1.028420</td>\n",
       "      <td>-3.002840</td>\n",
       "      <td>-1</td>\n",
       "      <td>17.14920</td>\n",
       "      <td>-11.713500</td>\n",
       "      <td>5.04474</td>\n",
       "      <td>11.464700</td>\n",
       "      <td>12.75360</td>\n",
       "      <td>0.808077</td>\n",
       "      <td>2.734920</td>\n",
       "      <td>1</td>\n",
       "      <td>15.89300</td>\n",
       "    </tr>\n",
       "    <tr>\n",
       "      <th>2</th>\n",
       "      <td>147115</td>\n",
       "      <td>367112316</td>\n",
       "      <td>25.54190</td>\n",
       "      <td>-11.480900</td>\n",
       "      <td>2.041680</td>\n",
       "      <td>22.72460</td>\n",
       "      <td>11.66100</td>\n",
       "      <td>1.420480</td>\n",
       "      <td>2.965600</td>\n",
       "      <td>1</td>\n",
       "      <td>15.82030</td>\n",
       "      <td>-1.472800</td>\n",
       "      <td>2.25895</td>\n",
       "      <td>-15.588800</td>\n",
       "      <td>2.69667</td>\n",
       "      <td>-2.455080</td>\n",
       "      <td>2.148570</td>\n",
       "      <td>1</td>\n",
       "      <td>38.38770</td>\n",
       "    </tr>\n",
       "    <tr>\n",
       "      <th>3</th>\n",
       "      <td>147115</td>\n",
       "      <td>366952149</td>\n",
       "      <td>65.39590</td>\n",
       "      <td>7.512140</td>\n",
       "      <td>11.887100</td>\n",
       "      <td>63.86620</td>\n",
       "      <td>14.06190</td>\n",
       "      <td>2.218380</td>\n",
       "      <td>1.007210</td>\n",
       "      <td>1</td>\n",
       "      <td>25.12730</td>\n",
       "      <td>4.087860</td>\n",
       "      <td>2.59641</td>\n",
       "      <td>24.656300</td>\n",
       "      <td>4.84272</td>\n",
       "      <td>2.330210</td>\n",
       "      <td>0.565865</td>\n",
       "      <td>-1</td>\n",
       "      <td>3.72862</td>\n",
       "    </tr>\n",
       "    <tr>\n",
       "      <th>4</th>\n",
       "      <td>147115</td>\n",
       "      <td>366523212</td>\n",
       "      <td>61.45040</td>\n",
       "      <td>2.952840</td>\n",
       "      <td>-14.622700</td>\n",
       "      <td>-59.61210</td>\n",
       "      <td>14.91790</td>\n",
       "      <td>-2.093750</td>\n",
       "      <td>-1.371540</td>\n",
       "      <td>-1</td>\n",
       "      <td>13.88710</td>\n",
       "      <td>-0.277757</td>\n",
       "      <td>-2.42560</td>\n",
       "      <td>-13.670800</td>\n",
       "      <td>2.44145</td>\n",
       "      <td>-2.423700</td>\n",
       "      <td>-1.684810</td>\n",
       "      <td>-1</td>\n",
       "      <td>2.74718</td>\n",
       "    </tr>\n",
       "    <tr>\n",
       "      <th>...</th>\n",
       "      <td>...</td>\n",
       "      <td>...</td>\n",
       "      <td>...</td>\n",
       "      <td>...</td>\n",
       "      <td>...</td>\n",
       "      <td>...</td>\n",
       "      <td>...</td>\n",
       "      <td>...</td>\n",
       "      <td>...</td>\n",
       "      <td>...</td>\n",
       "      <td>...</td>\n",
       "      <td>...</td>\n",
       "      <td>...</td>\n",
       "      <td>...</td>\n",
       "      <td>...</td>\n",
       "      <td>...</td>\n",
       "      <td>...</td>\n",
       "      <td>...</td>\n",
       "      <td>...</td>\n",
       "    </tr>\n",
       "    <tr>\n",
       "      <th>99995</th>\n",
       "      <td>146511</td>\n",
       "      <td>522575834</td>\n",
       "      <td>12.31310</td>\n",
       "      <td>-10.658000</td>\n",
       "      <td>5.164440</td>\n",
       "      <td>3.36858</td>\n",
       "      <td>11.84330</td>\n",
       "      <td>0.280727</td>\n",
       "      <td>2.690370</td>\n",
       "      <td>-1</td>\n",
       "      <td>1.80181</td>\n",
       "      <td>0.668609</td>\n",
       "      <td>-1.58437</td>\n",
       "      <td>0.537805</td>\n",
       "      <td>1.71967</td>\n",
       "      <td>0.307851</td>\n",
       "      <td>-1.171470</td>\n",
       "      <td>1</td>\n",
       "      <td>8.44779</td>\n",
       "    </tr>\n",
       "    <tr>\n",
       "      <th>99996</th>\n",
       "      <td>146511</td>\n",
       "      <td>522786431</td>\n",
       "      <td>18.46420</td>\n",
       "      <td>7.854990</td>\n",
       "      <td>15.133000</td>\n",
       "      <td>-7.08659</td>\n",
       "      <td>17.05020</td>\n",
       "      <td>-0.404510</td>\n",
       "      <td>1.092010</td>\n",
       "      <td>1</td>\n",
       "      <td>14.69110</td>\n",
       "      <td>-1.418020</td>\n",
       "      <td>-2.28117</td>\n",
       "      <td>-14.443500</td>\n",
       "      <td>2.68598</td>\n",
       "      <td>-2.383880</td>\n",
       "      <td>-2.126960</td>\n",
       "      <td>1</td>\n",
       "      <td>20.71540</td>\n",
       "    </tr>\n",
       "    <tr>\n",
       "      <th>99997</th>\n",
       "      <td>146511</td>\n",
       "      <td>522906124</td>\n",
       "      <td>4.18566</td>\n",
       "      <td>-3.273500</td>\n",
       "      <td>-0.308507</td>\n",
       "      <td>-2.59013</td>\n",
       "      <td>3.28801</td>\n",
       "      <td>-0.723075</td>\n",
       "      <td>-3.047630</td>\n",
       "      <td>1</td>\n",
       "      <td>72.81740</td>\n",
       "      <td>-11.074900</td>\n",
       "      <td>-9.28179</td>\n",
       "      <td>-71.369300</td>\n",
       "      <td>14.45010</td>\n",
       "      <td>-2.300410</td>\n",
       "      <td>-2.444050</td>\n",
       "      <td>-1</td>\n",
       "      <td>12.71350</td>\n",
       "    </tr>\n",
       "    <tr>\n",
       "      <th>99998</th>\n",
       "      <td>146511</td>\n",
       "      <td>523243830</td>\n",
       "      <td>54.46220</td>\n",
       "      <td>11.352600</td>\n",
       "      <td>11.880900</td>\n",
       "      <td>51.92400</td>\n",
       "      <td>16.43280</td>\n",
       "      <td>1.867800</td>\n",
       "      <td>0.808132</td>\n",
       "      <td>-1</td>\n",
       "      <td>8.58671</td>\n",
       "      <td>0.378009</td>\n",
       "      <td>3.07828</td>\n",
       "      <td>8.007050</td>\n",
       "      <td>3.10141</td>\n",
       "      <td>1.677170</td>\n",
       "      <td>1.448610</td>\n",
       "      <td>1</td>\n",
       "      <td>4.69670</td>\n",
       "    </tr>\n",
       "    <tr>\n",
       "      <th>99999</th>\n",
       "      <td>146511</td>\n",
       "      <td>524172389</td>\n",
       "      <td>7.64000</td>\n",
       "      <td>0.886162</td>\n",
       "      <td>5.478900</td>\n",
       "      <td>-5.25033</td>\n",
       "      <td>5.55010</td>\n",
       "      <td>-0.842662</td>\n",
       "      <td>1.410440</td>\n",
       "      <td>1</td>\n",
       "      <td>52.10880</td>\n",
       "      <td>16.807500</td>\n",
       "      <td>-4.60510</td>\n",
       "      <td>49.108400</td>\n",
       "      <td>17.42700</td>\n",
       "      <td>1.759250</td>\n",
       "      <td>-0.267427</td>\n",
       "      <td>-1</td>\n",
       "      <td>36.50430</td>\n",
       "    </tr>\n",
       "  </tbody>\n",
       "</table>\n",
       "<p>100000 rows × 19 columns</p>\n",
       "</div>"
      ],
      "text/plain": [
       "          Run      Event        E1       px1         py1       pz1       pt1  \\\n",
       "0      147115  366639895  58.71410  -7.311320  10.531000 -57.29740  12.82020   \n",
       "1      147115  366704169   6.61188  -4.152130  -0.579855  -5.11278   4.19242   \n",
       "2      147115  367112316  25.54190 -11.480900   2.041680  22.72460  11.66100   \n",
       "3      147115  366952149  65.39590   7.512140  11.887100  63.86620  14.06190   \n",
       "4      147115  366523212  61.45040   2.952840 -14.622700 -59.61210  14.91790   \n",
       "...       ...        ...       ...        ...        ...       ...       ...   \n",
       "99995  146511  522575834  12.31310 -10.658000   5.164440   3.36858  11.84330   \n",
       "99996  146511  522786431  18.46420   7.854990  15.133000  -7.08659  17.05020   \n",
       "99997  146511  522906124   4.18566  -3.273500  -0.308507  -2.59013   3.28801   \n",
       "99998  146511  523243830  54.46220  11.352600  11.880900  51.92400  16.43280   \n",
       "99999  146511  524172389   7.64000   0.886162   5.478900  -5.25033   5.55010   \n",
       "\n",
       "           eta1      phi1  Q1        E2        px2      py2        pz2  \\\n",
       "0     -2.202670  2.177660   1  11.28360  -1.032340 -1.88066 -11.077800   \n",
       "1     -1.028420 -3.002840  -1  17.14920 -11.713500  5.04474  11.464700   \n",
       "2      1.420480  2.965600   1  15.82030  -1.472800  2.25895 -15.588800   \n",
       "3      2.218380  1.007210   1  25.12730   4.087860  2.59641  24.656300   \n",
       "4     -2.093750 -1.371540  -1  13.88710  -0.277757 -2.42560 -13.670800   \n",
       "...         ...       ...  ..       ...        ...      ...        ...   \n",
       "99995  0.280727  2.690370  -1   1.80181   0.668609 -1.58437   0.537805   \n",
       "99996 -0.404510  1.092010   1  14.69110  -1.418020 -2.28117 -14.443500   \n",
       "99997 -0.723075 -3.047630   1  72.81740 -11.074900 -9.28179 -71.369300   \n",
       "99998  1.867800  0.808132  -1   8.58671   0.378009  3.07828   8.007050   \n",
       "99999 -0.842662  1.410440   1  52.10880  16.807500 -4.60510  49.108400   \n",
       "\n",
       "            pt2      eta2      phi2  Q2         M  \n",
       "0       2.14537 -2.344030 -2.072810  -1   8.94841  \n",
       "1      12.75360  0.808077  2.734920   1  15.89300  \n",
       "2       2.69667 -2.455080  2.148570   1  38.38770  \n",
       "3       4.84272  2.330210  0.565865  -1   3.72862  \n",
       "4       2.44145 -2.423700 -1.684810  -1   2.74718  \n",
       "...         ...       ...       ...  ..       ...  \n",
       "99995   1.71967  0.307851 -1.171470   1   8.44779  \n",
       "99996   2.68598 -2.383880 -2.126960   1  20.71540  \n",
       "99997  14.45010 -2.300410 -2.444050  -1  12.71350  \n",
       "99998   3.10141  1.677170  1.448610   1   4.69670  \n",
       "99999  17.42700  1.759250 -0.267427  -1  36.50430  \n",
       "\n",
       "[100000 rows x 19 columns]"
      ]
     },
     "execution_count": 9,
     "metadata": {},
     "output_type": "execute_result"
    }
   ],
   "source": [
    "ruta_completa = path + '/02_Datos/01_Originales/' + nombre_fichero_datos\n",
    "\n",
    "datos = pd.read_csv(ruta_completa)\n",
    "datos"
   ]
  },
  {
   "cell_type": "markdown",
   "id": "72894eb0-ce3b-48f1-a3b8-125caf2d24c9",
   "metadata": {},
   "source": [
    "El numero total de registro en bajo, por ello no voy a tomar un muestra y utilizar todo el dataset para trabajar."
   ]
  },
  {
   "cell_type": "markdown",
   "id": "b1f8b116-c581-4a8a-9cfa-9f717abce7ec",
   "metadata": {},
   "source": [
    "### Extraer y guardar el dataset de validación"
   ]
  },
  {
   "cell_type": "code",
   "execution_count": 10,
   "id": "15e34510-c605-4a3f-8d18-44128f58a73c",
   "metadata": {},
   "outputs": [],
   "source": [
    "val = datos.sample(frac = 0.3)"
   ]
  },
  {
   "cell_type": "code",
   "execution_count": 11,
   "id": "f4d1f2d5-dbae-40c1-a759-ce0e0983e3a4",
   "metadata": {},
   "outputs": [],
   "source": [
    "validacion = 'validacion.csv'\n",
    "ruta_completa = path + '/02_Datos/02_Validacion/' + validacion\n",
    "val.to_csv(ruta_completa)"
   ]
  },
  {
   "cell_type": "markdown",
   "id": "f84e120e",
   "metadata": {},
   "source": [
    "### Extraer y guardar el dataset de trabajo"
   ]
  },
  {
   "cell_type": "code",
   "execution_count": 12,
   "id": "e0ce153c",
   "metadata": {},
   "outputs": [],
   "source": [
    "trabajo = datos.loc[~datos.index.isin(val.index)]"
   ]
  },
  {
   "cell_type": "code",
   "execution_count": 13,
   "id": "dbb79c5f",
   "metadata": {},
   "outputs": [],
   "source": [
    "nombre_fichero_trabajo = 'trabajo.csv'\n",
    "\n",
    "ruta_completa = path + '/02_Datos/03_Trabajo/' + nombre_fichero_trabajo\n",
    "\n",
    "trabajo.to_csv(ruta_completa)"
   ]
  },
  {
   "cell_type": "code",
   "execution_count": null,
   "id": "8a701768-8890-4bfc-96af-1fc6cd22f154",
   "metadata": {},
   "outputs": [],
   "source": []
  }
 ],
 "metadata": {
  "kernelspec": {
   "display_name": "Python 3 (ipykernel)",
   "language": "python",
   "name": "python3"
  },
  "language_info": {
   "codemirror_mode": {
    "name": "ipython",
    "version": 3
   },
   "file_extension": ".py",
   "mimetype": "text/x-python",
   "name": "python",
   "nbconvert_exporter": "python",
   "pygments_lexer": "ipython3",
   "version": "3.12.4"
  },
  "toc": {
   "base_numbering": 1,
   "nav_menu": {},
   "number_sections": true,
   "sideBar": true,
   "skip_h1_title": false,
   "title_cell": "Table of Contents",
   "title_sidebar": "Contents",
   "toc_cell": false,
   "toc_position": {
    "height": "calc(100% - 180px)",
    "left": "10px",
    "top": "150px",
    "width": "346.133px"
   },
   "toc_section_display": true,
   "toc_window_display": false
  },
  "varInspector": {
   "cols": {
    "lenName": 16,
    "lenType": 16,
    "lenVar": 40
   },
   "kernels_config": {
    "python": {
     "delete_cmd_postfix": "",
     "delete_cmd_prefix": "del ",
     "library": "var_list.py",
     "varRefreshCmd": "print(var_dic_list())"
    },
    "r": {
     "delete_cmd_postfix": ") ",
     "delete_cmd_prefix": "rm(",
     "library": "var_list.r",
     "varRefreshCmd": "cat(var_dic_list()) "
    }
   },
   "types_to_exclude": [
    "module",
    "function",
    "builtin_function_or_method",
    "instance",
    "_Feature"
   ],
   "window_display": false
  }
 },
 "nbformat": 4,
 "nbformat_minor": 5
}
