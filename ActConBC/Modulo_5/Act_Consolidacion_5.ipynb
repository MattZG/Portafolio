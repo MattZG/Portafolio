{
 "cells": [
  {
   "cell_type": "markdown",
   "id": "3f6d51a0-44cd-42bb-8c48-d6b79694c02a",
   "metadata": {},
   "source": [
    "# Actividad de consolidación modulo 5"
   ]
  },
  {
   "cell_type": "markdown",
   "id": "8d9f51ca-d937-4e76-9551-d93acef2dea7",
   "metadata": {},
   "source": [
    "## 1. Diseño del experimento"
   ]
  },
  {
   "cell_type": "markdown",
   "id": "000d635d-4adc-47ef-984e-fdcddefe5240",
   "metadata": {},
   "source": [
    "### Explica brevemente cómo se podría mejorar el diseño del experimento para reducir posibles sesgos."
   ]
  },
  {
   "cell_type": "markdown",
   "id": "dd205da3-bf00-49b7-85fa-0081c854def5",
   "metadata": {},
   "source": [
    "Para reducir los sesgos del experimento se puede implementar una o varias de siguientes mejoras:\n",
    "\n",
    "1.- Generar los grupos de estudio aleatoriamente, para evitar que factores externos como la motivacion y antecedentes académicos influyan en los resultados.\n",
    "\n",
    "2.- Aumentar el total de la muestra para obtener resultados estadisticos más representativos\n",
    "\n",
    "3.- Asegurar que los grupos tengan caracteristicas similares"
   ]
  },
  {
   "cell_type": "markdown",
   "id": "953d0a5f-1914-4da0-b289-1403735646e5",
   "metadata": {},
   "source": [
    "## 2.- Cálculo de estadísiticas descriptivas"
   ]
  },
  {
   "cell_type": "markdown",
   "id": "551bcf87-e506-4947-9282-1c25d56d0f53",
   "metadata": {},
   "source": [
    "### Calcula la media y la desviación estándar para ambos grupos"
   ]
  },
  {
   "cell_type": "code",
   "execution_count": 3,
   "id": "0c0227ff-5b93-495f-bf1a-6737c43d531e",
   "metadata": {},
   "outputs": [
    {
     "name": "stdout",
     "output_type": "stream",
     "text": [
      "Grupo A, media: 85.87 y desviación estándar: 4.02\n",
      "Grupo b, media: 75.07 y desviación estándar: 3.71\n"
     ]
    }
   ],
   "source": [
    "import numpy as np\n",
    "import pandas as pd\n",
    "import matplotlib.pyplot as plt\n",
    "\n",
    "grupo_a = np.array([85, 90, 78, 88, 92, 80, 86, 89, 84, 87, 91, 82, 83, 85, 88])\n",
    "grupo_b = np.array([70, 72, 75, 78, 80, 68, 74, 76, 79, 77, 73, 71, 75, 78, 80])\n",
    "\n",
    "media_a, std_a = np.mean(grupo_a), np.std(grupo_a, ddof=1)\n",
    "media_b, std_b = np.mean(grupo_b), np.std(grupo_b, ddof=1)\n",
    "\n",
    "print(f'Grupo A, media: {media_a:.2f} y desviación estándar: {std_a:.2f}')\n",
    "print(f'Grupo b, media: {media_b:.2f} y desviación estándar: {std_b:.2f}')"
   ]
  },
  {
   "cell_type": "markdown",
   "id": "bf8dab09-2ade-4ec6-9787-6c1ddcbc1a85",
   "metadata": {},
   "source": [
    "### Representa los datos gráficamente"
   ]
  },
  {
   "cell_type": "code",
   "execution_count": 8,
   "id": "9a1beb40-23c7-47ed-ad13-e07901ad7f2a",
   "metadata": {},
   "outputs": [
    {
     "data": {
      "image/png": "[encoded data removed]",
      "text/plain": [
       "<Figure size 640x480 with 1 Axes>"
      ]
     },
     "metadata": {},
     "output_type": "display_data"
    }
   ],
   "source": [
    "plt.boxplot([grupo_a, grupo_b], labels=['Grupo A', 'Grupo B'], patch_artist = True)\n",
    "plt.title('Rendimiento académico por grupo')\n",
    "plt.ylabel('Puntaje')\n",
    "plt.grid()\n",
    "plt.show()"
   ]
  },
  {
   "cell_type": "markdown",
   "id": "1f5ca953-2d3c-497e-b91c-ec7cf8fe64df",
   "metadata": {},
   "source": [
    "## 3. Prueba de hipótesis"
   ]
  },
  {
   "cell_type": "markdown",
   "id": "c8c16e02-77bc-4f68-83a8-95c0ba5393eb",
   "metadata": {},
   "source": [
    "### Plantea la hipótesis nula (H0) y alternativa (H1)\n",
    "\n",
    "H0: No hay diferencia en el rendimiento académico entre los dos grupos.\n",
    "\n",
    "H1: El grupo con tutoría tiene un mejor rendimiento académico."
   ]
  },
  {
   "cell_type": "markdown",
   "id": "8cb19e14-e201-45d8-ae8a-2ec536e3a6aa",
   "metadata": {},
   "source": [
    "### Realiza una prueba t para comparar los medias de ambos grupos. Usa un nivel de significancia ($\\alpha$ = 0.05)"
   ]
  },
  {
   "cell_type": "code",
   "execution_count": 10,
   "id": "bed5fef3-4b6f-43a1-919b-f32ff97caffc",
   "metadata": {},
   "outputs": [
    {
     "name": "stdout",
     "output_type": "stream",
     "text": [
      "Prueba de hipotesis: 7.65\n",
      "Valor p: 0.00000002\n"
     ]
    }
   ],
   "source": [
    "from scipy.stats import ttest_ind\n",
    "\n",
    "t_stat, p_value = ttest_ind(grupo_a, grupo_b)\n",
    "print(f'Prueba de hipotesis: {t_stat:.2f}')\n",
    "print(f'Valor p: {p_value:.8f}')"
   ]
  },
  {
   "cell_type": "markdown",
   "id": "67c704c6-b0e5-408a-99a5-119dee77c1e9",
   "metadata": {},
   "source": [
    "### Interpretrar el valor-p y decidir si se rechaza o no la hipótesis nula"
   ]
  },
  {
   "cell_type": "code",
   "execution_count": 11,
   "id": "5a620568-f768-4880-8381-38f5d00aa851",
   "metadata": {},
   "outputs": [
    {
     "name": "stdout",
     "output_type": "stream",
     "text": [
      "Como el valor de p es menor a 0.05, rechazamos la hipotesis nula H0\n"
     ]
    }
   ],
   "source": [
    "if p_value < 0.05:\n",
    "  print(f'Como el valor de p es menor a 0.05, rechazamos la hipotesis nula H0')\n",
    "else:\n",
    "  print(f'Como el valor de p es mayor a 0.05, aceptamos la hipotesis nula H0')"
   ]
  },
  {
   "cell_type": "markdown",
   "id": "64427a7f-560d-43bb-a967-a7ff53247d5d",
   "metadata": {},
   "source": [
    "Por lo tanto, la mejoria que se aprecia en el grafico de caja del grupo A tiene significancia estadistica."
   ]
  },
  {
   "cell_type": "markdown",
   "id": "a763eeac-f8ff-4d0e-b700-bd4aea9ea70a",
   "metadata": {},
   "source": [
    "## 4. Invervalo de confianza"
   ]
  },
  {
   "cell_type": "markdown",
   "id": "37b5cb56-07ba-490f-941b-91537d4568be",
   "metadata": {},
   "source": [
    "### Calcula un intervalo de confianza del 95% para la diferencia de medias entre los dos grupos"
   ]
  },
  {
   "cell_type": "code",
   "execution_count": 19,
   "id": "90e7ad6a-bad9-462f-b457-a01650eb25a4",
   "metadata": {},
   "outputs": [
    {
     "name": "stdout",
     "output_type": "stream",
     "text": [
      "Con un intervalo de confianza de 95% la diferencia entre las medias oscila entre (7.907716724419259, 13.692283275580735)\n"
     ]
    }
   ],
   "source": [
    "import scipy.stats as st\n",
    "\n",
    "lvl_conf = 0.95\n",
    "\n",
    "diff_medias = media_a - media_b\n",
    "\n",
    "error_std_diff = np.sqrt((std_a ** 2 / len(grupo_a)) + (std_b ** 2 / len(grupo_b)))\n",
    "\n",
    "dof = len(grupo_a) + len(grupo_b) - 2\n",
    "\n",
    "inter_conf = st.t.interval(lvl_conf, dof, loc = diff_medias, scale = error_std_diff)\n",
    "print(f'Con un intervalo de confianza de {lvl_conf * 100:.0f}% la diferencia entre las medias oscila entre {inter_conf}')"
   ]
  },
  {
   "cell_type": "markdown",
   "id": "30f6cbf9-e8ec-471a-9ad2-f0cc5ce54d91",
   "metadata": {},
   "source": [
    "### Interpreta el resultado"
   ]
  },
  {
   "cell_type": "markdown",
   "id": "bc6cbeb7-cef3-4080-b3e3-fdb63cea8f2c",
   "metadata": {},
   "source": [
    "Con una seguridad del 95% se puede asegurar que el programa de tutoría aumento el rendimiento académico del grupo entre 7 y 13 puntos respecto al grupo sin tutoria."
   ]
  },
  {
   "cell_type": "code",
   "execution_count": null,
   "id": "994bf0d1-1e34-402d-9e37-9e644f1370cc",
   "metadata": {},
   "outputs": [],
   "source": []
  }
 ],
 "metadata": {
  "kernelspec": {
   "display_name": "Python 3 (ipykernel)",
   "language": "python",
   "name": "python3"
  },
  "language_info": {
   "codemirror_mode": {
    "name": "ipython",
    "version": 3
   },
   "file_extension": ".py",
   "mimetype": "text/x-python",
   "name": "python",
   "nbconvert_exporter": "python",
   "pygments_lexer": "ipython3",
   "version": "3.12.4"
  }
 },
 "nbformat": 4,
 "nbformat_minor": 5
}
