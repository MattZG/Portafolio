{
  "cells": [
    {
      "cell_type": "code",
      "execution_count": null,
      "metadata": {
        "colab": {
          "base_uri": "https://localhost:8080/"
        },
        "id": "93SR7caCgmHS",
        "outputId": "adbd3902-8ce5-440a-a568-c4b79e6d4e64"
      },
      "outputs": [
        {
          "name": "stdout",
          "output_type": "stream",
          "text": [
            "Requirement already satisfied: pyspark in /usr/local/lib/python3.12/dist-packages (3.5.1)\n",
            "Requirement already satisfied: findspark in /usr/local/lib/python3.12/dist-packages (2.0.1)\n",
            "Requirement already satisfied: py4j==0.10.9.7 in /usr/local/lib/python3.12/dist-packages (from pyspark) (0.10.9.7)\n",
            "SparkSesion creada con éxito\n",
            "Contenido del DF de ventas\n",
            "+----------+--------+------+----------+\n",
            "|  producto|cantidad|precio|     fecha|\n",
            "+----------+--------+------+----------+\n",
            "|Producto A|     100|  15.5|2023-01-01|\n",
            "|Producto B|      50|  20.0|2023-01-01|\n",
            "|Producto C|     150|   5.0|2023-01-02|\n",
            "|Producto A|      20|  15.5|2023-01-02|\n",
            "|Producto B|      75|  20.0|2023-01-03|\n",
            "|Producto A|     125|  15.5|2023-01-04|\n",
            "|Producto C|     200|   5.0|2023-01-04|\n",
            "+----------+--------+------+----------+\n",
            "\n",
            "DataFrame filtado para 'Producto A':\n",
            "+----------+--------+------+----------+\n",
            "|  producto|cantidad|precio|     fecha|\n",
            "+----------+--------+------+----------+\n",
            "|Producto A|     100|  15.5|2023-01-01|\n",
            "|Producto A|      20|  15.5|2023-01-02|\n",
            "|Producto A|     125|  15.5|2023-01-04|\n",
            "+----------+--------+------+----------+\n",
            "\n",
            "Ventas totales del \"Producto A\" por fecha: \n",
            "+----------+-------------+\n",
            "|     fecha|sum(cantidad)|\n",
            "+----------+-------------+\n",
            "|2023-01-01|          100|\n",
            "|2023-01-04|          125|\n",
            "|2023-01-02|           20|\n",
            "+----------+-------------+\n",
            "\n",
            "DF con la columna \"ingresos\"\n",
            "+----------+--------+------+----------+--------+\n",
            "|  producto|cantidad|precio|     fecha|ingresos|\n",
            "+----------+--------+------+----------+--------+\n",
            "|Producto A|     100|  15.5|2023-01-01|  1550.0|\n",
            "|Producto B|      50|  20.0|2023-01-01|  1000.0|\n",
            "|Producto C|     150|   5.0|2023-01-02|   750.0|\n",
            "|Producto A|      20|  15.5|2023-01-02|   310.0|\n",
            "|Producto B|      75|  20.0|2023-01-03|  1500.0|\n",
            "|Producto A|     125|  15.5|2023-01-04|  1937.5|\n",
            "|Producto C|     200|   5.0|2023-01-04|  1000.0|\n",
            "+----------+--------+------+----------+--------+\n",
            "\n",
            "Ingresos totales por cada producto\n",
            "+----------+-------------+\n",
            "|  producto|sum(ingresos)|\n",
            "+----------+-------------+\n",
            "|Producto A|       3797.5|\n",
            "|Producto B|       2500.0|\n",
            "|Producto C|       1750.0|\n",
            "+----------+-------------+\n",
            "\n",
            "DF con el nuevo nombre de la columna\n",
            "+----------+----------------+\n",
            "|  producto|ingresos totales|\n",
            "+----------+----------------+\n",
            "|Producto A|          3797.5|\n",
            "|Producto B|          2500.0|\n",
            "|Producto C|          1750.0|\n",
            "+----------+----------------+\n",
            "\n",
            "Resultados guardados exitosamente\n"
          ]
        }
      ],
      "source": [
        "!pip install pyspark findspark\n",
        "\n",
        "import findspark #para que Python encuentre PySpark\n",
        "from pyspark.sql import SparkSession\n",
        "from pyspark.sql.functions import col\n",
        "import os\n",
        "\n",
        "#Configurar Spark para que encuentre el entorno\n",
        "findspark.init()\n",
        "\n",
        "#Crear sesión\n",
        "\n",
        "spark=SparkSession.builder \\\n",
        "    .appName(\"AnalisisVentas\") \\\n",
        "    .getOrCreate()\n",
        "\n",
        "#Verificar que la sesión se haya creado exitosamente\n",
        "print(\"SparkSesion creada con éxito\")\n",
        "\n",
        "data=[(\"Producto A\", 100, 15.50, \"2023-01-01\"),\n",
        "      (\"Producto B\", 50, 20.00, \"2023-01-01\"),\n",
        "      (\"Producto C\", 150, 5.00, \"2023-01-02\"),\n",
        "      (\"Producto A\", 20, 15.50, \"2023-01-02\"),\n",
        "      (\"Producto B\", 75, 20.00, \"2023-01-03\"),\n",
        "      (\"Producto A\", 125, 15.50, \"2023-01-04\"),\n",
        "      (\"Producto C\", 200, 5.00, \"2023-01-04\")\n",
        "       ]\n",
        "\n",
        "columnas=[\"producto\", \"cantidad\", \"precio\", \"fecha\"]\n",
        "\n",
        "#Convertir en un DF de PySpark\n",
        "\n",
        "df_ventas=spark.createDataFrame(data, columnas)\n",
        "\n",
        "#Mostrar el contenido del DF\n",
        "print(\"Contenido del DF de ventas\")\n",
        "df_ventas.show()\n",
        "\n",
        "#Filtrado y Agrupamiento\n",
        "#Filtrar solo las filas donde la columna 'producto' es igual a 'Producto A\n",
        "df_producto_a=df_ventas.filter(df_ventas.producto==\"Producto A\")\n",
        "\n",
        "print(\"DataFrame filtado para 'Producto A':\")\n",
        "df_producto_a.show()\n",
        "\n",
        "#Agrupar los datos del 'Producto A' por columna 'fecha' y sumar la columna 'cantidad'\n",
        "df_agrupado = df_producto_a.groupBy('fecha').sum('cantidad')\n",
        "\n",
        "print('Ventas totales del \"Producto A\" por fecha: ')\n",
        "df_agrupado.show()\n",
        "\n",
        "#Crear columna ingresos\n",
        "df_ingresos = df_ventas.withColumn('ingresos', col('cantidad') * col('precio'))\n",
        "\n",
        "print('DF con la columna \"ingresos\"')\n",
        "df_ingresos.show()\n",
        "\n",
        "#Agrupar el DF por la columna 'producto' y sumar la nueva columna ingresos\n",
        "df_ingresos_totales = df_ingresos.groupBy('producto').sum('ingresos')\n",
        "\n",
        "print('Ingresos totales por cada producto')\n",
        "df_ingresos_totales.show()\n",
        "\n",
        "#Renombrar la columna de suma\n",
        "df_ingresos_totales = df_ingresos_totales.withColumnRenamed('sum(ingresos)', 'ingresos totales')\n",
        "\n",
        "print('DF con el nuevo nombre de la columna')\n",
        "df_ingresos_totales.show()\n",
        "\n",
        "#Guardar el DF df_ingresos_totales en un archivo csv\n",
        "df_ingresos_totales.write.mode('overwrite').option('header', 'true').csv('ingresos_totales_por_producto.csv')\n",
        "\n",
        "print('Resultados guardados exitosamente')"
      ]
    },
    {
      "cell_type": "code",
      "execution_count": null,
      "metadata": {
        "colab": {
          "base_uri": "https://localhost:8080/"
        },
        "id": "nxUlrpT-jsg4",
        "outputId": "fa8d5f6f-ada7-47c8-b215-999ecba11577"
      },
      "outputs": [
        {
          "name": "stdout",
          "output_type": "stream",
          "text": [
            "SparkSession creada con exito.\n"
          ]
        }
      ],
      "source": [
        "import findspark\n",
        "from pyspark.sql import SparkSession\n",
        "from pyspark.sql.functions import col, avg\n",
        "\n",
        "findspark.init()\n",
        "\n",
        "spark = SparkSession.builder.appName('AnalisisAppMovil').getOrCreate()\n",
        "\n",
        "print('SparkSession creada con exito.')"
      ]
    },
    {
      "cell_type": "code",
      "execution_count": null,
      "metadata": {
        "colab": {
          "background_save": true
        },
        "id": "xQTDP6FlsHjZ",
        "outputId": "04e7a80f-f02b-4aeb-f429-807956060e89"
      },
      "outputs": [
        {
          "name": "stdout",
          "output_type": "stream",
          "text": [
            "Contenido del DF inicial\n"
          ]
        },
        {
          "data": {
            "text/plain": [
              "DataFrame[user_ID: string, OS: string, session_duration: bigint]"
            ]
          },
          "execution_count": 9,
          "metadata": {},
          "output_type": "execute_result"
        }
      ],
      "source": [
        "data = [('user_1', 'Android', 120),\n",
        "        ('user_2', 'iOS', 300),\n",
        "        ('user_3', 'Android', 150),\n",
        "        ('user_4', 'iOS', 250),\n",
        "        ('user_5', 'Android', 90),\n",
        "        ('user_6', 'iOS', 400),\n",
        "        ('user_7', 'Android', 180),\n",
        "        ('user_8', 'iOS', 220)]\n",
        "\n",
        "columns = ['user_ID', 'OS', 'session_duration']\n",
        "\n",
        "df_app = spark.createDataFrame(data, columns)"
      ]
    },
    {
      "cell_type": "markdown",
      "source": [
        "### Ejercicio"
      ],
      "metadata": {
        "id": "AmECWdN4mNDl"
      }
    },
    {
      "cell_type": "code",
      "source": [
        "!pip install pyspark findspark\n",
        "\n",
        "import findspark\n",
        "from pyspark.sql import SparkSession\n",
        "\n",
        "findspark.init()\n",
        "spark = SparkSession.builder.appName('AnalisisTransacciones').getOrCreate()\n",
        "spark_context = spark.sparkContext\n",
        "\n",
        "print('Spark y SparkContext creados exitosamente')"
      ],
      "metadata": {
        "colab": {
          "base_uri": "https://localhost:8080/"
        },
        "id": "msv0n8NtejS9",
        "outputId": "49f77e46-abaf-424d-ecef-934168b1b23e"
      },
      "execution_count": null,
      "outputs": [
        {
          "output_type": "stream",
          "name": "stdout",
          "text": [
            "Requirement already satisfied: pyspark in /usr/local/lib/python3.12/dist-packages (3.5.1)\n",
            "Requirement already satisfied: findspark in /usr/local/lib/python3.12/dist-packages (2.0.1)\n",
            "Requirement already satisfied: py4j==0.10.9.7 in /usr/local/lib/python3.12/dist-packages (from pyspark) (0.10.9.7)\n",
            "Spark y SparkContext creados exitosamente\n"
          ]
        }
      ]
    },
    {
      "cell_type": "code",
      "source": [
        "datos_csv = spark_context.parallelize([\n",
        "    'id,usuario,monto,fecha,categoria',\n",
        "    '1,Juan,1500,2025-03-10,Supermercado',\n",
        "    '2,Ana,2000,2025-03-12,Tecnología',\n",
        "    '3,Carlos,500,2025-03-12,Supermercado',\n",
        "    '4,Juan,3000,2025-03-13,Tecnología',\n",
        "    '5,Ana,700,2025-03-14,Restaurante'\n",
        "])\n",
        "\n",
        "header = datos_csv.first()\n",
        "header"
      ],
      "metadata": {
        "colab": {
          "base_uri": "https://localhost:8080/",
          "height": 35
        },
        "id": "Svr1ogZUgSQh",
        "outputId": "eac54c26-a241-4959-a547-6be0de1e0480"
      },
      "execution_count": null,
      "outputs": [
        {
          "output_type": "execute_result",
          "data": {
            "text/plain": [
              "'id,usuario,monto,fecha,categoria'"
            ],
            "application/vnd.google.colaboratory.intrinsic+json": {
              "type": "string"
            }
          },
          "metadata": {},
          "execution_count": 9
        }
      ]
    },
    {
      "cell_type": "code",
      "source": [
        "rdd_without_header = datos_csv.filter(lambda x: x != header)\n",
        "rdd_without_header.collect()"
      ],
      "metadata": {
        "colab": {
          "base_uri": "https://localhost:8080/"
        },
        "id": "bXEu77rmhNMt",
        "outputId": "f3279251-87db-4e43-d8ec-f0891698e575"
      },
      "execution_count": null,
      "outputs": [
        {
          "output_type": "execute_result",
          "data": {
            "text/plain": [
              "['1,Juan,1500,2025-03-10,Supermercado',\n",
              " '2,Ana,2000,2025-03-12,Tecnología',\n",
              " '3,Carlos,500,2025-03-12,Supermercado',\n",
              " '4,Juan,3000,2025-03-13,Tecnología',\n",
              " '5,Ana,700,2025-03-14,Restaurante']"
            ]
          },
          "metadata": {},
          "execution_count": 10
        }
      ]
    },
    {
      "cell_type": "code",
      "source": [
        "rdd_transactions = rdd_without_header.map(lambda x: x.split(',')).map(lambda x: (x[1], float(x[2])))\n",
        "rdd_transactions.collect()"
      ],
      "metadata": {
        "colab": {
          "base_uri": "https://localhost:8080/"
        },
        "id": "mL2yce25hro8",
        "outputId": "7a2cc065-2be3-499f-b36a-9a29b3e59aa4"
      },
      "execution_count": null,
      "outputs": [
        {
          "output_type": "execute_result",
          "data": {
            "text/plain": [
              "[('Juan', 1500.0),\n",
              " ('Ana', 2000.0),\n",
              " ('Carlos', 500.0),\n",
              " ('Juan', 3000.0),\n",
              " ('Ana', 700.0)]"
            ]
          },
          "metadata": {},
          "execution_count": 11
        }
      ]
    },
    {
      "cell_type": "code",
      "source": [
        "rdd_filter = rdd_transactions.filter(lambda x: x[1] > 1000)\n",
        "rdd_filter.collect()"
      ],
      "metadata": {
        "colab": {
          "base_uri": "https://localhost:8080/"
        },
        "id": "cbzzPhvPigxK",
        "outputId": "8cc405b4-8397-4b5e-dc65-d885276ea216"
      },
      "execution_count": null,
      "outputs": [
        {
          "output_type": "execute_result",
          "data": {
            "text/plain": [
              "[('Juan', 1500.0), ('Ana', 2000.0), ('Juan', 3000.0)]"
            ]
          },
          "metadata": {},
          "execution_count": 13
        }
      ]
    },
    {
      "cell_type": "code",
      "source": [
        "rdd_spend = rdd_transactions.reduceByKey(lambda x, y: x + y)\n",
        "rdd_spend.collect()"
      ],
      "metadata": {
        "colab": {
          "base_uri": "https://localhost:8080/"
        },
        "id": "Zrx0v36hjL-t",
        "outputId": "014e454d-9109-4f31-855c-5964a9636f4b"
      },
      "execution_count": null,
      "outputs": [
        {
          "output_type": "execute_result",
          "data": {
            "text/plain": [
              "[('Juan', 4500.0), ('Ana', 2700.0), ('Carlos', 500.0)]"
            ]
          },
          "metadata": {},
          "execution_count": 16
        }
      ]
    },
    {
      "cell_type": "code",
      "source": [
        "rdd_top_3 = rdd_spend.sortBy(lambda x: x[1], ascending = False).take(3)\n",
        "print('Los 3 usuarios con mayores gastos son:')\n",
        "rdd_top_3"
      ],
      "metadata": {
        "colab": {
          "base_uri": "https://localhost:8080/"
        },
        "id": "ZQJjhBt9jxUe",
        "outputId": "632ec390-9764-4d13-8fac-ff95ed30f195"
      },
      "execution_count": null,
      "outputs": [
        {
          "output_type": "stream",
          "name": "stdout",
          "text": [
            "Los 3 usuarios con mayores gastos son:\n"
          ]
        },
        {
          "output_type": "execute_result",
          "data": {
            "text/plain": [
              "[('Juan', 4500.0), ('Ana', 2700.0), ('Carlos', 500.0)]"
            ]
          },
          "metadata": {},
          "execution_count": 17
        }
      ]
    },
    {
      "cell_type": "code",
      "source": [
        "rdd_amounts = rdd_transactions.map(lambda x: x[1])\n",
        "sum = rdd_amounts.sum()\n",
        "mean = rdd_amounts.mean()\n",
        "std = rdd_amounts.stdev()\n",
        "print(f'La de los montos totales: {sum:.2f}. \\nLa media de los montos totales: {mean:.2f}.\\nLa desviacion estandar de los montos: {std:.2f}')"
      ],
      "metadata": {
        "colab": {
          "base_uri": "https://localhost:8080/"
        },
        "id": "Q219fLb8lI4O",
        "outputId": "c5e25792-609d-4cdf-9c5e-47adb1b6f361"
      },
      "execution_count": null,
      "outputs": [
        {
          "output_type": "stream",
          "name": "stdout",
          "text": [
            "La de los montos totales: 7700.00. \n",
            "La media de los montos totales: 1540.00.\n",
            "La desviacion estandar de los montos: 909.07\n"
          ]
        }
      ]
    },
    {
      "cell_type": "markdown",
      "source": [
        "### Ejercicio"
      ],
      "metadata": {
        "id": "HCWxOcnsswY9"
      }
    },
    {
      "cell_type": "code",
      "source": [
        "import kagglehub\n",
        "\n",
        "# Download latest version\n",
        "path = kagglehub.dataset_download(\"arshid/iris-flower-dataset\")\n",
        "\n",
        "print(\"Path to dataset files:\", path)"
      ],
      "metadata": {
        "colab": {
          "base_uri": "https://localhost:8080/"
        },
        "id": "7fwO0XpOl-iH",
        "outputId": "a89df835-e3fa-43e5-9712-107e11513756"
      },
      "execution_count": null,
      "outputs": [
        {
          "output_type": "stream",
          "name": "stdout",
          "text": [
            "Using Colab cache for faster access to the 'iris-flower-dataset' dataset.\n",
            "Path to dataset files: /kaggle/input/iris-flower-dataset\n"
          ]
        }
      ]
    },
    {
      "cell_type": "code",
      "source": [
        "import os\n",
        "import pandas as pd\n",
        "\n",
        "os.listdir(path)\n",
        "\n",
        "dataset_path = os.path.join(path, 'IRIS.csv')"
      ],
      "metadata": {
        "id": "6b-QYJjns26d"
      },
      "execution_count": null,
      "outputs": []
    },
    {
      "cell_type": "code",
      "source": [
        "findspark.init()\n",
        "\n",
        "spark = SparkSession.builder.appName('MLlib_Iris').getOrCreate()\n",
        "\n",
        "data = spark.read.csv(dataset_path, header = True, inferSchema = True)\n",
        "data.show(5)"
      ],
      "metadata": {
        "colab": {
          "base_uri": "https://localhost:8080/"
        },
        "id": "ya1NJ2B-tKqj",
        "outputId": "81b032a5-6ed7-432f-c030-45faf9fa3b80"
      },
      "execution_count": null,
      "outputs": [
        {
          "output_type": "stream",
          "name": "stdout",
          "text": [
            "+------------+-----------+------------+-----------+-----------+\n",
            "|sepal_length|sepal_width|petal_length|petal_width|    species|\n",
            "+------------+-----------+------------+-----------+-----------+\n",
            "|         5.1|        3.5|         1.4|        0.2|Iris-setosa|\n",
            "|         4.9|        3.0|         1.4|        0.2|Iris-setosa|\n",
            "|         4.7|        3.2|         1.3|        0.2|Iris-setosa|\n",
            "|         4.6|        3.1|         1.5|        0.2|Iris-setosa|\n",
            "|         5.0|        3.6|         1.4|        0.2|Iris-setosa|\n",
            "+------------+-----------+------------+-----------+-----------+\n",
            "only showing top 5 rows\n",
            "\n"
          ]
        }
      ]
    },
    {
      "cell_type": "code",
      "source": [
        "from pyspark.ml.feature import VectorAssembler\n",
        "from pyspark.sql.functions import when, col\n",
        "\n",
        "data.select('species').distinct().show()"
      ],
      "metadata": {
        "colab": {
          "base_uri": "https://localhost:8080/"
        },
        "id": "YxblTfPtuI84",
        "outputId": "04bbf38f-5f40-43b8-a209-69705fced827"
      },
      "execution_count": null,
      "outputs": [
        {
          "output_type": "stream",
          "name": "stdout",
          "text": [
            "+---------------+\n",
            "|        species|\n",
            "+---------------+\n",
            "| Iris-virginica|\n",
            "|    Iris-setosa|\n",
            "|Iris-versicolor|\n",
            "+---------------+\n",
            "\n"
          ]
        }
      ]
    },
    {
      "cell_type": "code",
      "source": [
        "data = data.withColumn('label', when(col('species') == 'Iris-setosa', 0).when(col('species') == 'Iris-versicolor', 1).otherwise(2))\n",
        "data.show(5)"
      ],
      "metadata": {
        "colab": {
          "base_uri": "https://localhost:8080/"
        },
        "id": "9ZMrWav2v0JU",
        "outputId": "707841a1-d224-4830-9a64-1210707873b9"
      },
      "execution_count": null,
      "outputs": [
        {
          "output_type": "stream",
          "name": "stdout",
          "text": [
            "+------------+-----------+------------+-----------+-----------+-----+\n",
            "|sepal_length|sepal_width|petal_length|petal_width|    species|label|\n",
            "+------------+-----------+------------+-----------+-----------+-----+\n",
            "|         5.1|        3.5|         1.4|        0.2|Iris-setosa|    0|\n",
            "|         4.9|        3.0|         1.4|        0.2|Iris-setosa|    0|\n",
            "|         4.7|        3.2|         1.3|        0.2|Iris-setosa|    0|\n",
            "|         4.6|        3.1|         1.5|        0.2|Iris-setosa|    0|\n",
            "|         5.0|        3.6|         1.4|        0.2|Iris-setosa|    0|\n",
            "+------------+-----------+------------+-----------+-----------+-----+\n",
            "only showing top 5 rows\n",
            "\n"
          ]
        }
      ]
    },
    {
      "cell_type": "code",
      "source": [
        "features_columns = ['sepal_length', 'sepal_width', 'petal_length', 'petal_width']\n",
        "assembler = VectorAssembler(inputCols = features_columns, outputCol = 'features')\n",
        "data = assembler.transform(data)\n",
        "data = data.select('features', 'label')\n",
        "data.show(5)"
      ],
      "metadata": {
        "colab": {
          "base_uri": "https://localhost:8080/"
        },
        "id": "1KZ65ujjw2QE",
        "outputId": "ae582796-0bd1-45be-8f72-58ca936d8d2e"
      },
      "execution_count": null,
      "outputs": [
        {
          "output_type": "stream",
          "name": "stdout",
          "text": [
            "+-----------------+-----+\n",
            "|         features|label|\n",
            "+-----------------+-----+\n",
            "|[5.1,3.5,1.4,0.2]|    0|\n",
            "|[4.9,3.0,1.4,0.2]|    0|\n",
            "|[4.7,3.2,1.3,0.2]|    0|\n",
            "|[4.6,3.1,1.5,0.2]|    0|\n",
            "|[5.0,3.6,1.4,0.2]|    0|\n",
            "+-----------------+-----+\n",
            "only showing top 5 rows\n",
            "\n"
          ]
        }
      ]
    },
    {
      "cell_type": "code",
      "source": [
        "from pyspark.ml.classification import LogisticRegression\n",
        "\n",
        "train, test = data.randomSplit([0.8, 0.2], seed = 42)\n",
        "\n",
        "lr = LogisticRegression(featuresCol = 'features', labelCol = 'label', maxIter = 10)\n",
        "model = lr.fit(train)\n",
        "pred = model.transform(test)\n",
        "pred.select('label', 'prediction').show()"
      ],
      "metadata": {
        "colab": {
          "base_uri": "https://localhost:8080/"
        },
        "id": "KyoTBPFm47i1",
        "outputId": "37ead22d-aa74-4fcb-899e-2768fcd3b17b"
      },
      "execution_count": null,
      "outputs": [
        {
          "output_type": "stream",
          "name": "stdout",
          "text": [
            "+-----+----------+\n",
            "|label|prediction|\n",
            "+-----+----------+\n",
            "|    0|       0.0|\n",
            "|    0|       0.0|\n",
            "|    0|       0.0|\n",
            "|    0|       0.0|\n",
            "|    0|       0.0|\n",
            "|    1|       1.0|\n",
            "|    0|       0.0|\n",
            "|    0|       0.0|\n",
            "|    0|       0.0|\n",
            "|    1|       1.0|\n",
            "|    0|       0.0|\n",
            "|    0|       0.0|\n",
            "|    0|       0.0|\n",
            "|    1|       1.0|\n",
            "|    1|       1.0|\n",
            "|    1|       1.0|\n",
            "|    2|       2.0|\n",
            "|    1|       1.0|\n",
            "|    2|       2.0|\n",
            "|    2|       2.0|\n",
            "+-----+----------+\n",
            "only showing top 20 rows\n",
            "\n"
          ]
        }
      ]
    },
    {
      "cell_type": "code",
      "source": [
        "from pyspark.ml.evaluation import MulticlassClassificationEvaluator\n",
        "\n",
        "evaluator = MulticlassClassificationEvaluator(labelCol = 'label', metricName = 'accuracy')\n",
        "accuracy = evaluator.evaluate(pred)\n",
        "print(f'Accuracy: {accuracy:.2f}')"
      ],
      "metadata": {
        "colab": {
          "base_uri": "https://localhost:8080/"
        },
        "id": "jHUibabG7Iyu",
        "outputId": "008a8a3b-4b52-4054-cc93-6a59ff580f6b"
      },
      "execution_count": null,
      "outputs": [
        {
          "output_type": "stream",
          "name": "stdout",
          "text": [
            "Accuracy: 1.00\n"
          ]
        }
      ]
    },
    {
      "cell_type": "code",
      "source": [
        "from pyspark.ml.clustering import KMeans\n",
        "\n",
        "kmeans = KMeans(featuresCol = 'features', k = 3)\n",
        "model = kmeans.fit(train)\n",
        "pred = model.transform(test)\n",
        "pred.show()"
      ],
      "metadata": {
        "colab": {
          "base_uri": "https://localhost:8080/"
        },
        "id": "QCdbvzxz7wY7",
        "outputId": "39cd6e79-942f-40fb-a0c5-55039f97ad86"
      },
      "execution_count": null,
      "outputs": [
        {
          "output_type": "stream",
          "name": "stdout",
          "text": [
            "+-----------------+-----+----------+\n",
            "|         features|label|prediction|\n",
            "+-----------------+-----+----------+\n",
            "|[4.4,3.0,1.3,0.2]|    0|         1|\n",
            "|[4.6,3.2,1.4,0.2]|    0|         1|\n",
            "|[4.6,3.6,1.0,0.2]|    0|         1|\n",
            "|[4.8,3.1,1.6,0.2]|    0|         1|\n",
            "|[4.9,3.1,1.5,0.1]|    0|         1|\n",
            "|[5.0,2.3,3.3,1.0]|    1|         2|\n",
            "|[5.0,3.5,1.3,0.3]|    0|         1|\n",
            "|[5.1,3.5,1.4,0.2]|    0|         1|\n",
            "|[5.3,3.7,1.5,0.2]|    0|         1|\n",
            "|[5.4,3.0,4.5,1.5]|    1|         2|\n",
            "|[5.4,3.4,1.5,0.4]|    0|         1|\n",
            "|[5.4,3.7,1.5,0.2]|    0|         1|\n",
            "|[5.4,3.9,1.7,0.4]|    0|         1|\n",
            "|[5.5,2.5,4.0,1.3]|    1|         2|\n",
            "|[5.6,2.9,3.6,1.3]|    1|         2|\n",
            "|[5.7,2.9,4.2,1.3]|    1|         2|\n",
            "|[5.8,2.7,5.1,1.9]|    2|         2|\n",
            "|[6.3,2.5,4.9,1.5]|    1|         2|\n",
            "|[6.4,3.1,5.5,1.8]|    2|         0|\n",
            "|[6.5,3.0,5.2,2.0]|    2|         0|\n",
            "+-----------------+-----+----------+\n",
            "only showing top 20 rows\n",
            "\n"
          ]
        }
      ]
    },
    {
      "cell_type": "code",
      "source": [
        "import kagglehub\n",
        "\n",
        "# Download latest version\n",
        "path = kagglehub.dataset_download(\"rajyellow46/wine-quality\")\n",
        "\n",
        "print(\"Path to dataset files:\", path)"
      ],
      "metadata": {
        "id": "8RB0fZWi8eFR",
        "colab": {
          "base_uri": "https://localhost:8080/"
        },
        "outputId": "ad3efcd8-2e5d-4baa-e1a8-eba1f9ffaa0b"
      },
      "execution_count": 1,
      "outputs": [
        {
          "output_type": "stream",
          "name": "stdout",
          "text": [
            "Downloading from https://www.kaggle.com/api/v1/datasets/download/rajyellow46/wine-quality?dataset_version_number=1...\n"
          ]
        },
        {
          "output_type": "stream",
          "name": "stderr",
          "text": [
            "100%|██████████| 98.0k/98.0k [00:00<00:00, 44.5MB/s]"
          ]
        },
        {
          "output_type": "stream",
          "name": "stdout",
          "text": [
            "Extracting files...\n",
            "Path to dataset files: /root/.cache/kagglehub/datasets/rajyellow46/wine-quality/versions/1\n"
          ]
        },
        {
          "output_type": "stream",
          "name": "stderr",
          "text": [
            "\n"
          ]
        }
      ]
    },
    {
      "cell_type": "code",
      "source": [
        "import os\n",
        "import pandas as pd\n",
        "\n",
        "os.listdir(path)\n",
        "\n",
        "dataset_path = os.path.join(path, 'winequalityN.csv')"
      ],
      "metadata": {
        "id": "2EvwmmHzi8X7"
      },
      "execution_count": 3,
      "outputs": []
    },
    {
      "cell_type": "code",
      "source": [
        "!pip install pyspark findspark\n",
        "\n",
        "import findspark\n",
        "from pyspark.sql import SparkSession\n",
        "from pyspark.sql.functions import when, col\n",
        "from pyspark.ml.feature import VectorAssembler, StandardScaler, CountVectorizer, IDF, StopWordsRemover, StringIndexer, OneHotEncoder\n",
        "from pyspark.ml.classification import NaiveBayes\n",
        "from pyspark.ml.clustering import KMeans, LDA\n",
        "from pyspark.ml.evaluation import MulticlassClassificationEvaluator\n",
        "from pyspark.ml import Pipeline"
      ],
      "metadata": {
        "colab": {
          "base_uri": "https://localhost:8080/"
        },
        "id": "C2zHzZo4i_vi",
        "outputId": "bc52df95-a45c-4023-ec41-2832f0507fd7"
      },
      "execution_count": 16,
      "outputs": [
        {
          "output_type": "stream",
          "name": "stdout",
          "text": [
            "Requirement already satisfied: pyspark in /usr/local/lib/python3.12/dist-packages (3.5.1)\n",
            "Requirement already satisfied: findspark in /usr/local/lib/python3.12/dist-packages (2.0.1)\n",
            "Requirement already satisfied: py4j==0.10.9.7 in /usr/local/lib/python3.12/dist-packages (from pyspark) (0.10.9.7)\n"
          ]
        }
      ]
    },
    {
      "cell_type": "code",
      "source": [
        "findspark.init()\n",
        "\n",
        "spark_session = SparkSession.builder.appName('WineQualityML').getOrCreate()\n",
        "\n",
        "print('La sesion se he ejecutado exitosamente')"
      ],
      "metadata": {
        "colab": {
          "base_uri": "https://localhost:8080/"
        },
        "id": "3j4fgS7LlI8m",
        "outputId": "86575950-a23f-4c27-f248-82b70a7bb21f"
      },
      "execution_count": 5,
      "outputs": [
        {
          "output_type": "stream",
          "name": "stdout",
          "text": [
            "La sesion se he ejecutado exitosamente\n"
          ]
        }
      ]
    },
    {
      "cell_type": "code",
      "source": [
        "df = spark_session.read.csv(dataset_path, header = True, inferSchema = True)\n",
        "df.printSchema()"
      ],
      "metadata": {
        "colab": {
          "base_uri": "https://localhost:8080/"
        },
        "id": "ca5CdPN4lfNG",
        "outputId": "22bf295d-ddbb-4558-da77-e55a2f97035a"
      },
      "execution_count": 43,
      "outputs": [
        {
          "output_type": "stream",
          "name": "stdout",
          "text": [
            "root\n",
            " |-- type: string (nullable = true)\n",
            " |-- fixed acidity: double (nullable = true)\n",
            " |-- volatile acidity: double (nullable = true)\n",
            " |-- citric acid: double (nullable = true)\n",
            " |-- residual sugar: double (nullable = true)\n",
            " |-- chlorides: double (nullable = true)\n",
            " |-- free sulfur dioxide: double (nullable = true)\n",
            " |-- total sulfur dioxide: double (nullable = true)\n",
            " |-- density: double (nullable = true)\n",
            " |-- pH: double (nullable = true)\n",
            " |-- sulphates: double (nullable = true)\n",
            " |-- alcohol: double (nullable = true)\n",
            " |-- quality: integer (nullable = true)\n",
            "\n"
          ]
        }
      ]
    },
    {
      "cell_type": "code",
      "source": [
        "df.show(5)"
      ],
      "metadata": {
        "colab": {
          "base_uri": "https://localhost:8080/"
        },
        "id": "ydAkezq3lwLo",
        "outputId": "333196d8-fabf-4e75-b7cf-1301aa91ac79"
      },
      "execution_count": 44,
      "outputs": [
        {
          "output_type": "stream",
          "name": "stdout",
          "text": [
            "+-----+-------------+----------------+-----------+--------------+---------+-------------------+--------------------+-------+----+---------+-------+-------+\n",
            "| type|fixed acidity|volatile acidity|citric acid|residual sugar|chlorides|free sulfur dioxide|total sulfur dioxide|density|  pH|sulphates|alcohol|quality|\n",
            "+-----+-------------+----------------+-----------+--------------+---------+-------------------+--------------------+-------+----+---------+-------+-------+\n",
            "|white|          7.0|            0.27|       0.36|          20.7|    0.045|               45.0|               170.0|  1.001| 3.0|     0.45|    8.8|      6|\n",
            "|white|          6.3|             0.3|       0.34|           1.6|    0.049|               14.0|               132.0|  0.994| 3.3|     0.49|    9.5|      6|\n",
            "|white|          8.1|            0.28|        0.4|           6.9|     0.05|               30.0|                97.0| 0.9951|3.26|     0.44|   10.1|      6|\n",
            "|white|          7.2|            0.23|       0.32|           8.5|    0.058|               47.0|               186.0| 0.9956|3.19|      0.4|    9.9|      6|\n",
            "|white|          7.2|            0.23|       0.32|           8.5|    0.058|               47.0|               186.0| 0.9956|3.19|      0.4|    9.9|      6|\n",
            "+-----+-------------+----------------+-----------+--------------+---------+-------------------+--------------------+-------+----+---------+-------+-------+\n",
            "only showing top 5 rows\n",
            "\n"
          ]
        }
      ]
    },
    {
      "cell_type": "code",
      "source": [
        "df.withColumnRenamed('quality', 'label').show(5)"
      ],
      "metadata": {
        "colab": {
          "base_uri": "https://localhost:8080/"
        },
        "id": "9vp5vqFpmVsc",
        "outputId": "ee74c46d-ebda-4bce-b29e-41b5a5c72d3e"
      },
      "execution_count": 45,
      "outputs": [
        {
          "output_type": "stream",
          "name": "stdout",
          "text": [
            "+-----+-------------+----------------+-----------+--------------+---------+-------------------+--------------------+-------+----+---------+-------+-----+\n",
            "| type|fixed acidity|volatile acidity|citric acid|residual sugar|chlorides|free sulfur dioxide|total sulfur dioxide|density|  pH|sulphates|alcohol|label|\n",
            "+-----+-------------+----------------+-----------+--------------+---------+-------------------+--------------------+-------+----+---------+-------+-----+\n",
            "|white|          7.0|            0.27|       0.36|          20.7|    0.045|               45.0|               170.0|  1.001| 3.0|     0.45|    8.8|    6|\n",
            "|white|          6.3|             0.3|       0.34|           1.6|    0.049|               14.0|               132.0|  0.994| 3.3|     0.49|    9.5|    6|\n",
            "|white|          8.1|            0.28|        0.4|           6.9|     0.05|               30.0|                97.0| 0.9951|3.26|     0.44|   10.1|    6|\n",
            "|white|          7.2|            0.23|       0.32|           8.5|    0.058|               47.0|               186.0| 0.9956|3.19|      0.4|    9.9|    6|\n",
            "|white|          7.2|            0.23|       0.32|           8.5|    0.058|               47.0|               186.0| 0.9956|3.19|      0.4|    9.9|    6|\n",
            "+-----+-------------+----------------+-----------+--------------+---------+-------------------+--------------------+-------+----+---------+-------+-----+\n",
            "only showing top 5 rows\n",
            "\n"
          ]
        }
      ]
    },
    {
      "cell_type": "code",
      "source": [
        "for column in df.columns:\n",
        "  count = df.filter(col(column).isNull()).count()\n",
        "  print(f'La columna {column} tiene {count} valores nulos')"
      ],
      "metadata": {
        "colab": {
          "base_uri": "https://localhost:8080/"
        },
        "id": "TKdqXkZTnNeD",
        "outputId": "fad38465-19f0-4cc4-cba1-aaf2e04a2ead"
      },
      "execution_count": 46,
      "outputs": [
        {
          "output_type": "stream",
          "name": "stdout",
          "text": [
            "La columna type tiene 0 valores nulos\n",
            "La columna fixed acidity tiene 10 valores nulos\n",
            "La columna volatile acidity tiene 8 valores nulos\n",
            "La columna citric acid tiene 3 valores nulos\n",
            "La columna residual sugar tiene 2 valores nulos\n",
            "La columna chlorides tiene 2 valores nulos\n",
            "La columna free sulfur dioxide tiene 0 valores nulos\n",
            "La columna total sulfur dioxide tiene 0 valores nulos\n",
            "La columna density tiene 0 valores nulos\n",
            "La columna pH tiene 9 valores nulos\n",
            "La columna sulphates tiene 4 valores nulos\n",
            "La columna alcohol tiene 0 valores nulos\n",
            "La columna quality tiene 0 valores nulos\n"
          ]
        }
      ]
    },
    {
      "cell_type": "code",
      "source": [
        "df = df.dropna()\n",
        "\n",
        "for column in df.columns:\n",
        "  count = df.filter(col(column).isNull()).count()\n",
        "  print(f'La columna {column} tiene {count} valores nulos')"
      ],
      "metadata": {
        "colab": {
          "base_uri": "https://localhost:8080/"
        },
        "id": "ri2j4L8FoMib",
        "outputId": "6a821cc1-cec4-4281-c225-f53135a824d9"
      },
      "execution_count": 47,
      "outputs": [
        {
          "output_type": "stream",
          "name": "stdout",
          "text": [
            "La columna type tiene 0 valores nulos\n",
            "La columna fixed acidity tiene 0 valores nulos\n",
            "La columna volatile acidity tiene 0 valores nulos\n",
            "La columna citric acid tiene 0 valores nulos\n",
            "La columna residual sugar tiene 0 valores nulos\n",
            "La columna chlorides tiene 0 valores nulos\n",
            "La columna free sulfur dioxide tiene 0 valores nulos\n",
            "La columna total sulfur dioxide tiene 0 valores nulos\n",
            "La columna density tiene 0 valores nulos\n",
            "La columna pH tiene 0 valores nulos\n",
            "La columna sulphates tiene 0 valores nulos\n",
            "La columna alcohol tiene 0 valores nulos\n",
            "La columna quality tiene 0 valores nulos\n"
          ]
        }
      ]
    },
    {
      "cell_type": "code",
      "source": [
        "indexer = StringIndexer(inputCol = 'type', outputCol = 'type_index')\n",
        "df = indexer.fit(df).transform(df)\n",
        "df.select('type', 'type_index').show(5)\n",
        "ohe = OneHotEncoder(inputCol = 'type_index', outputCol = 'type_vector')\n",
        "df = ohe.fit(df).transform(df)\n",
        "df.select('type', 'type_index', 'type_vector').show(5)"
      ],
      "metadata": {
        "colab": {
          "base_uri": "https://localhost:8080/"
        },
        "id": "cn37O25ys_Zn",
        "outputId": "352bbe81-d117-4f1c-fc2b-5eae0985417d"
      },
      "execution_count": 48,
      "outputs": [
        {
          "output_type": "stream",
          "name": "stdout",
          "text": [
            "+-----+----------+\n",
            "| type|type_index|\n",
            "+-----+----------+\n",
            "|white|       0.0|\n",
            "|white|       0.0|\n",
            "|white|       0.0|\n",
            "|white|       0.0|\n",
            "|white|       0.0|\n",
            "+-----+----------+\n",
            "only showing top 5 rows\n",
            "\n",
            "+-----+----------+-------------+\n",
            "| type|type_index|  type_vector|\n",
            "+-----+----------+-------------+\n",
            "|white|       0.0|(1,[0],[1.0])|\n",
            "|white|       0.0|(1,[0],[1.0])|\n",
            "|white|       0.0|(1,[0],[1.0])|\n",
            "|white|       0.0|(1,[0],[1.0])|\n",
            "|white|       0.0|(1,[0],[1.0])|\n",
            "+-----+----------+-------------+\n",
            "only showing top 5 rows\n",
            "\n"
          ]
        }
      ]
    },
    {
      "cell_type": "code",
      "source": [
        "first_col = df.columns[0]\n",
        "df = df.drop(first_col)\n",
        "df = df.withColumnRenamed('quality', 'label')\n",
        "features_columns = df.columns\n",
        "features_columns"
      ],
      "metadata": {
        "colab": {
          "base_uri": "https://localhost:8080/"
        },
        "id": "hy3tbK5FoufT",
        "outputId": "49d38486-b6c1-450f-dd7b-2f3abd241511"
      },
      "execution_count": 49,
      "outputs": [
        {
          "output_type": "execute_result",
          "data": {
            "text/plain": [
              "['fixed acidity',\n",
              " 'volatile acidity',\n",
              " 'citric acid',\n",
              " 'residual sugar',\n",
              " 'chlorides',\n",
              " 'free sulfur dioxide',\n",
              " 'total sulfur dioxide',\n",
              " 'density',\n",
              " 'pH',\n",
              " 'sulphates',\n",
              " 'alcohol',\n",
              " 'label',\n",
              " 'type_index',\n",
              " 'type_vector']"
            ]
          },
          "metadata": {},
          "execution_count": 49
        }
      ]
    },
    {
      "cell_type": "code",
      "source": [
        "assembler = VectorAssembler(inputCols = features_columns, outputCol = 'features')\n",
        "df = assembler.transform(df)\n",
        "df.select('features').show(5, truncate = False)"
      ],
      "metadata": {
        "colab": {
          "base_uri": "https://localhost:8080/"
        },
        "id": "bKCrioLlpGbM",
        "outputId": "6ec1bc65-9765-4926-adfd-91dbe8fbfa90"
      },
      "execution_count": 50,
      "outputs": [
        {
          "output_type": "stream",
          "name": "stdout",
          "text": [
            "+--------------------------------------------------------------------+\n",
            "|features                                                            |\n",
            "+--------------------------------------------------------------------+\n",
            "|[7.0,0.27,0.36,20.7,0.045,45.0,170.0,1.001,3.0,0.45,8.8,6.0,0.0,1.0]|\n",
            "|[6.3,0.3,0.34,1.6,0.049,14.0,132.0,0.994,3.3,0.49,9.5,6.0,0.0,1.0]  |\n",
            "|[8.1,0.28,0.4,6.9,0.05,30.0,97.0,0.9951,3.26,0.44,10.1,6.0,0.0,1.0] |\n",
            "|[7.2,0.23,0.32,8.5,0.058,47.0,186.0,0.9956,3.19,0.4,9.9,6.0,0.0,1.0]|\n",
            "|[7.2,0.23,0.32,8.5,0.058,47.0,186.0,0.9956,3.19,0.4,9.9,6.0,0.0,1.0]|\n",
            "+--------------------------------------------------------------------+\n",
            "only showing top 5 rows\n",
            "\n"
          ]
        }
      ]
    },
    {
      "cell_type": "code",
      "source": [
        "ss = StandardScaler(inputCol = 'features', outputCol = 'features_scaled', withStd = True, withMean = False)\n",
        "model_ss = ss.fit(df)\n",
        "df_scaled = model_ss.transform(df)\n",
        "print('Esquema y datos procesados')\n",
        "df_scaled.select('features', 'features_scaled', 'label').show(5, truncate = False)"
      ],
      "metadata": {
        "colab": {
          "base_uri": "https://localhost:8080/"
        },
        "id": "QnZ4hAncz8Yx",
        "outputId": "5edfebca-430f-434c-e367-289ce674e623"
      },
      "execution_count": 51,
      "outputs": [
        {
          "output_type": "stream",
          "name": "stdout",
          "text": [
            "Esquema y datos procesados\n",
            "+--------------------------------------------------------------------+-------------------------------------------------------------------------------------------------------------------------------------------------------------------------------------------------------------------------------------------------------+-----+\n",
            "|features                                                            |features_scaled                                                                                                                                                                                                                                        |label|\n",
            "+--------------------------------------------------------------------+-------------------------------------------------------------------------------------------------------------------------------------------------------------------------------------------------------------------------------------------------------+-----+\n",
            "|[7.0,0.27,0.36,20.7,0.045,45.0,170.0,1.001,3.0,0.45,8.8,6.0,0.0,1.0]|[5.3932733950232405,1.6399492631469168,2.478446519138887,4.3516177008280055,1.2829349077172065,2.5339527853129264,3.0074264241558137,333.50619992148717,18.67414789701555,3.021890455165658,7.375569286451198,6.870600131409363,0.0,2.3202147657328656]|6    |\n",
            "|[6.3,0.3,0.34,1.6,0.049,14.0,132.0,0.994,3.3,0.49,9.5,6.0,0.0,1.0]  |[4.853946055520916,1.8221658479410185,2.3407550458533937,0.336356923735498,1.3969735661809584,0.7883408665417994,2.335178164638632,331.1739887332251,20.541562686717107,3.290502940069272,7.962262297873452,6.870600131409363,0.0,2.3202147657328656]  |6    |\n",
            "|[8.1,0.28,0.4,6.9,0.05,30.0,97.0,0.9951,3.26,0.44,10.1,6.0,0.0,1.0] |[6.24078778566975,1.7006881247449508,2.7538294657098747,1.4505392336093352,1.4254832307968963,1.6893018568752844,1.7160021361359643,331.54047906280914,20.29257404809023,2.9547373339397547,8.465142021949669,6.870600131409363,0.0,2.3202147657328656]|6    |\n",
            "|[7.2,0.23,0.32,8.5,0.058,47.0,186.0,0.9956,3.19,0.4,9.9,6.0,0.0,1.0]|[5.5473669205953335,1.396993816754781,2.2030635725678995,1.7868961573448332,1.6535605477243998,2.646572909104612,3.2904783228998906,331.7070655762564,19.856843930493202,2.6861248490361405,8.297515447257597,6.870600131409363,0.0,2.3202147657328656]|6    |\n",
            "|[7.2,0.23,0.32,8.5,0.058,47.0,186.0,0.9956,3.19,0.4,9.9,6.0,0.0,1.0]|[5.5473669205953335,1.396993816754781,2.2030635725678995,1.7868961573448332,1.6535605477243998,2.646572909104612,3.2904783228998906,331.7070655762564,19.856843930493202,2.6861248490361405,8.297515447257597,6.870600131409363,0.0,2.3202147657328656]|6    |\n",
            "+--------------------------------------------------------------------+-------------------------------------------------------------------------------------------------------------------------------------------------------------------------------------------------------------------------------------------------------+-----+\n",
            "only showing top 5 rows\n",
            "\n"
          ]
        }
      ]
    },
    {
      "cell_type": "code",
      "source": [
        "train, test = df_scaled.randomSplit([0.8, 0.2], seed = 42)\n",
        "size_train = train.count()\n",
        "size_test = test.count()\n",
        "print(f'Tamaño set de entrenamiento: {size_train}.\\nTamaño de set de prueba: {size_test}')"
      ],
      "metadata": {
        "colab": {
          "base_uri": "https://localhost:8080/"
        },
        "id": "DVKB3XLX0Ts7",
        "outputId": "e390318a-efb1-4737-88b0-fca1b9386104"
      },
      "execution_count": 52,
      "outputs": [
        {
          "output_type": "stream",
          "name": "stdout",
          "text": [
            "Tamaño set de entrenamiento: 5228.\n",
            "Tamaño de set de prueba: 1235\n"
          ]
        }
      ]
    },
    {
      "cell_type": "code",
      "source": [],
      "metadata": {
        "id": "p-6hD8L05ncE"
      },
      "execution_count": null,
      "outputs": []
    }
  ],
  "metadata": {
    "colab": {
      "provenance": [],
      "authorship_tag": "ABX9TyO9Nuu69I9aCDQ+JHFmx6lv"
    },
    "kernelspec": {
      "display_name": "Python 3",
      "name": "python3"
    },
    "language_info": {
      "name": "python"
    }
  },
  "nbformat": 4,
  "nbformat_minor": 0
}